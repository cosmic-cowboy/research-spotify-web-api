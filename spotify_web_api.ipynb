{
  "nbformat": 4,
  "nbformat_minor": 0,
  "metadata": {
    "colab": {
      "provenance": [],
      "authorship_tag": "ABX9TyMEFg/JKYpHFrJ9WqVNfZJv",
      "include_colab_link": true
    },
    "kernelspec": {
      "name": "python3",
      "display_name": "Python 3"
    },
    "language_info": {
      "name": "python"
    }
  },
  "cells": [
    {
      "cell_type": "markdown",
      "metadata": {
        "id": "view-in-github",
        "colab_type": "text"
      },
      "source": [
        "<a href=\"https://colab.research.google.com/github/cosmic-cowboy/research-spotify-web-api/blob/main/spotify_web_api.ipynb\" target=\"_parent\"><img src=\"https://colab.research.google.com/assets/colab-badge.svg\" alt=\"Open In Colab\"/></a>"
      ]
    },
    {
      "cell_type": "code",
      "execution_count": 3,
      "metadata": {
        "colab": {
          "base_uri": "https://localhost:8080/"
        },
        "id": "zBHQ0gpWXkE_",
        "outputId": "425d8a53-c7b0-4771-8725-f69481efbba4"
      },
      "outputs": [
        {
          "output_type": "stream",
          "name": "stdout",
          "text": [
            "Looking in indexes: https://pypi.org/simple, https://us-python.pkg.dev/colab-wheels/public/simple/\n",
            "Requirement already satisfied: spotipy in /usr/local/lib/python3.10/dist-packages (2.23.0)\n",
            "Requirement already satisfied: redis>=3.5.3 in /usr/local/lib/python3.10/dist-packages (from spotipy) (4.5.5)\n",
            "Requirement already satisfied: requests>=2.25.0 in /usr/local/lib/python3.10/dist-packages (from spotipy) (2.27.1)\n",
            "Requirement already satisfied: six>=1.15.0 in /usr/local/lib/python3.10/dist-packages (from spotipy) (1.16.0)\n",
            "Requirement already satisfied: urllib3>=1.26.0 in /usr/local/lib/python3.10/dist-packages (from spotipy) (1.26.15)\n",
            "Requirement already satisfied: async-timeout>=4.0.2 in /usr/local/lib/python3.10/dist-packages (from redis>=3.5.3->spotipy) (4.0.2)\n",
            "Requirement already satisfied: certifi>=2017.4.17 in /usr/local/lib/python3.10/dist-packages (from requests>=2.25.0->spotipy) (2022.12.7)\n",
            "Requirement already satisfied: charset-normalizer~=2.0.0 in /usr/local/lib/python3.10/dist-packages (from requests>=2.25.0->spotipy) (2.0.12)\n",
            "Requirement already satisfied: idna<4,>=2.5 in /usr/local/lib/python3.10/dist-packages (from requests>=2.25.0->spotipy) (3.4)\n"
          ]
        }
      ],
      "source": [
        "!pip install spotipy"
      ]
    },
    {
      "cell_type": "code",
      "source": [
        "import pandas as pd\n",
        "import spotipy\n",
        "from spotipy.oauth2 import SpotifyClientCredentials\n",
        "import json\n",
        "\n",
        "client_id = ''\n",
        "client_secret = ''\n",
        "client_credentials_manager = spotipy.oauth2.SpotifyClientCredentials(client_id, client_secret)\n",
        "spotify = spotipy.Spotify(client_credentials_manager=client_credentials_manager)"
      ],
      "metadata": {
        "id": "YUG3Gec-XpLB"
      },
      "execution_count": 4,
      "outputs": []
    },
    {
      "cell_type": "code",
      "source": [
        "from IPython.display import display, HTML\n",
        "def display_images_with_names(image_urls, names):\n",
        "    html = \"<table style='margin:auto;'>\"\n",
        "    \n",
        "    for i, (url, name) in enumerate(zip(image_urls, names)):\n",
        "        # 10個ごとに新しい行を追加\n",
        "        if i % 10 == 0:\n",
        "            html += \"<tr>\"\n",
        "        \n",
        "        html += \"<td style='text-align:center;'>\"\n",
        "        html += f\"<img src='{url}'><div>{name}</div>\"\n",
        "        html += \"</td>\"\n",
        "        \n",
        "        # 10個ごとに行を終了\n",
        "        if (i + 1) % 5 == 0:\n",
        "            html += \"</tr>\"\n",
        "    \n",
        "    # 行が10で割り切れない場合の対応\n",
        "    if len(image_urls) % 5 != 0:\n",
        "        html += \"</tr>\"\n",
        "    \n",
        "    html += \"</table>\"\n",
        "    \n",
        "    display(HTML(html))"
      ],
      "metadata": {
        "id": "SEdl9jnbbO7D"
      },
      "execution_count": 75,
      "outputs": []
    },
    {
      "cell_type": "code",
      "source": [
        "# search artist\n",
        "name = 'akira kosemura'\n",
        "result001 = spotify.search(q='artist:' + name, type='artist')\n",
        "\n",
        "#print(json.dumps(result001, indent=4))\n",
        "print(result001['artists']['items'][0]['id'])\n",
        "print(result001['artists']['items'][0]['name'])\n",
        "display(Image(url=result001['artists']['items'][0]['images'][2]['url']))\n",
        "\n"
      ],
      "metadata": {
        "colab": {
          "base_uri": "https://localhost:8080/",
          "height": 216
        },
        "id": "KDOVU48ycSPL",
        "outputId": "267f8dfc-aaf8-4456-f7ed-d418ce527efc"
      },
      "execution_count": 77,
      "outputs": [
        {
          "output_type": "stream",
          "name": "stdout",
          "text": [
            "4n1lW38WKgyPEIZowQ3AND\n",
            "Akira Kosemura\n"
          ]
        },
        {
          "output_type": "display_data",
          "data": {
            "text/html": [
              "<img src=\"https://i.scdn.co/image/ab6761610000f1787bb2ed541b05224e86d02959\"/>"
            ],
            "text/plain": [
              "<IPython.core.display.Image object>"
            ]
          },
          "metadata": {}
        }
      ]
    },
    {
      "cell_type": "code",
      "source": [
        "result002 = spotify.recommendations(seed_artists=['4n1lW38WKgyPEIZowQ3AND'])\n",
        "# print(json.dumps(result002, indent=4))\n",
        "image_urls = []\n",
        "names = []\n",
        "for x in result002['tracks']:\n",
        "  names.append(x[\"album\"][\"name\"])\n",
        "  image_urls.append(x[\"album\"][\"images\"][1][\"url\"])\n",
        "\n",
        "display_images_with_names(image_urls, names)"
      ],
      "metadata": {
        "colab": {
          "base_uri": "https://localhost:8080/",
          "height": 1000
        },
        "id": "TLPcX3duh0Rp",
        "outputId": "c4a0be30-af98-44b3-bf88-cf2770a845db"
      },
      "execution_count": 79,
      "outputs": [
        {
          "output_type": "display_data",
          "data": {
            "text/plain": [
              "<IPython.core.display.HTML object>"
            ],
            "text/html": [
              "<table style='margin:auto;'><tr><td style='text-align:center;'><img src='https://i.scdn.co/image/ab67616d00001e020597fd4ebf2fe038a446ae48'><div>In The Misty Dream Till The Dawn</div></td><td style='text-align:center;'><img src='https://i.scdn.co/image/ab67616d00001e02676e6e2d6a9ead1ec9644d34'><div>Longhope</div></td><td style='text-align:center;'><img src='https://i.scdn.co/image/ab67616d00001e02b109943ad8541052d2742c85'><div>Ichiru</div></td><td style='text-align:center;'><img src='https://i.scdn.co/image/ab67616d00001e027b65dfbb23c9d5cb6034ef8c'><div>Bits and Pieces</div></td><td style='text-align:center;'><img src='https://i.scdn.co/image/ab67616d00001e02ece7ed9ad8c36212e910ed47'><div>Still Blue</div></td></tr><td style='text-align:center;'><img src='https://i.scdn.co/image/ab67616d00001e023e9e280c4d3863ba7b5108bb'><div>Marginalia V</div></td><td style='text-align:center;'><img src='https://i.scdn.co/image/ab67616d00001e02a00272002a979e01511ebc41'><div>88 Keys II</div></td><td style='text-align:center;'><img src='https://i.scdn.co/image/ab67616d00001e02b156297e855b9a5a098f1e08'><div>Vikvib</div></td><td style='text-align:center;'><img src='https://i.scdn.co/image/ab67616d00001e020ffbe860a6895330b768877b'><div>Colours - Victor Jazz Nation</div></td><td style='text-align:center;'><img src='https://i.scdn.co/image/ab67616d00001e024b70ec39d6161249e8f0a3a1'><div>The Morning Is a River</div></td></tr><tr><td style='text-align:center;'><img src='https://i.scdn.co/image/ab67616d00001e02664c8cc0ab4947dc5a660722'><div>海街diary オリジナルサウンドトラック</div></td><td style='text-align:center;'><img src='https://i.scdn.co/image/ab67616d00001e02ff9985287f836a008dad1bc3'><div>\"β\" 1</div></td><td style='text-align:center;'><img src='https://i.scdn.co/image/ab67616d00001e02229f82ed16ec36140423e6c3'><div>Cry Wolf</div></td><td style='text-align:center;'><img src='https://i.scdn.co/image/ab67616d00001e0263c5585c7c8cebbdce49b933'><div>Costero</div></td><td style='text-align:center;'><img src='https://i.scdn.co/image/ab67616d00001e029ea4df6ac465b387ff984e29'><div>Des Plumes Dans La Tête</div></td></tr><td style='text-align:center;'><img src='https://i.scdn.co/image/ab67616d00001e027ed906848828c4334427ba83'><div>Drift</div></td><td style='text-align:center;'><img src='https://i.scdn.co/image/ab67616d00001e0257e843f1f129d5be712b0bcd'><div>Night Rain</div></td><td style='text-align:center;'><img src='https://i.scdn.co/image/ab67616d00001e021eb9e34acd263ee7b2ee74fc'><div>Summer Ghost Original Sound Track</div></td><td style='text-align:center;'><img src='https://i.scdn.co/image/ab67616d00001e02e2e710de6c4568a019d8479d'><div>Spring Greetings</div></td><td style='text-align:center;'><img src='https://i.scdn.co/image/ab67616d00001e02eda6633074a6ec665fb818fe'><div>Open</div></td></tr></table>"
            ]
          },
          "metadata": {}
        }
      ]
    },
    {
      "cell_type": "code",
      "source": [
        "# search artist\n",
        "name = 'Bambi'\n",
        "result003 = spotify.search(q='track:' + name, type='track')\n",
        "\n",
        "#print(result003)\n",
        "print(result003['tracks']['items'][0]['id'])\n",
        "print(result003['tracks']['items'][0]['name'])\n",
        "print(result003['tracks']['items'][0]['album']['artists'][0]['name'])\n",
        "display(Image(url=result003['tracks']['items'][0]['album']['images'][1]['url']))\n"
      ],
      "metadata": {
        "colab": {
          "base_uri": "https://localhost:8080/",
          "height": 374
        },
        "id": "-NOCl8UQnPsj",
        "outputId": "5757a838-ed86-47a6-ee58-e7d6c8ceb908"
      },
      "execution_count": 98,
      "outputs": [
        {
          "output_type": "stream",
          "name": "stdout",
          "text": [
            "5dmPNuHmRRJuHmJTDa7NuJ\n",
            "Bambi\n",
            "Hippo Campus\n"
          ]
        },
        {
          "output_type": "display_data",
          "data": {
            "text/html": [
              "<img src=\"https://i.scdn.co/image/ab67616d00001e0282c6a08699bfd0e4bbe95001\"/>"
            ],
            "text/plain": [
              "<IPython.core.display.Image object>"
            ]
          },
          "metadata": {}
        }
      ]
    },
    {
      "cell_type": "code",
      "source": [
        "result004 = spotify.recommendations(seed_tracks=['5dmPNuHmRRJuHmJTDa7NuJ'])\n",
        "# print(json.dumps(result002, indent=4))\n",
        "image_urls = []\n",
        "names = []\n",
        "for x in result004['tracks']:\n",
        "  names.append(x[\"album\"][\"name\"])\n",
        "  image_urls.append(x[\"album\"][\"images\"][1][\"url\"])\n",
        "\n",
        "display_images_with_names(image_urls, names)"
      ],
      "metadata": {
        "colab": {
          "base_uri": "https://localhost:8080/",
          "height": 1000
        },
        "id": "qnDsQGfgpj5p",
        "outputId": "6a12d5f4-2477-4006-eb41-ee3058ae1bb3"
      },
      "execution_count": 91,
      "outputs": [
        {
          "output_type": "display_data",
          "data": {
            "text/plain": [
              "<IPython.core.display.HTML object>"
            ],
            "text/html": [
              "<table style='margin:auto;'><tr><td style='text-align:center;'><img src='https://i.scdn.co/image/ab67616d00001e0288883701231713b18429f80b'><div>Social Cues</div></td><td style='text-align:center;'><img src='https://i.scdn.co/image/ab67616d00001e02daf19ee32be2d4917c266b09'><div>Violet Street</div></td><td style='text-align:center;'><img src='https://i.scdn.co/image/ab67616d00001e02fffed5c0eb4428e53713ade4'><div>Disappear Here</div></td><td style='text-align:center;'><img src='https://i.scdn.co/image/ab67616d00001e0282c6a08699bfd0e4bbe95001'><div>Bambi</div></td><td style='text-align:center;'><img src='https://i.scdn.co/image/ab67616d00001e021138eea74b6d7e06289bedaa'><div>SALES LP</div></td></tr><td style='text-align:center;'><img src='https://i.scdn.co/image/ab67616d00001e028d223b671888b23418a1b60b'><div>Forever & A Few</div></td><td style='text-align:center;'><img src='https://i.scdn.co/image/ab67616d00001e0279ba5da582b4dc3ad3d6b771'><div>First Place</div></td><td style='text-align:center;'><img src='https://i.scdn.co/image/ab67616d00001e02a359d88b8368698c7c44add9'><div>Parents House</div></td><td style='text-align:center;'><img src='https://i.scdn.co/image/ab67616d00001e0239a2cc5c8bf2b0c6448b7135'><div>That I Miss You</div></td><td style='text-align:center;'><img src='https://i.scdn.co/image/ab67616d00001e021c584847957ff9d720112cc9'><div>California Kamala Falcon</div></td></tr><tr><td style='text-align:center;'><img src='https://i.scdn.co/image/ab67616d00001e028935646998a8d28d13bc348d'><div>Chewing Cotton Wool</div></td><td style='text-align:center;'><img src='https://i.scdn.co/image/ab67616d00001e02a50c8151a7f80e970cd20abf'><div>Never Meant to Call</div></td><td style='text-align:center;'><img src='https://i.scdn.co/image/ab67616d00001e02ec3d15eab5bd77027abc4b23'><div>How To Be A Human Being</div></td><td style='text-align:center;'><img src='https://i.scdn.co/image/ab67616d00001e02f89d2d949f9671982e9e732c'><div>Now, Not Yet</div></td><td style='text-align:center;'><img src='https://i.scdn.co/image/ab67616d00001e02bb09cba8a0ce270c134a59e9'><div>City Club</div></td></tr><td style='text-align:center;'><img src='https://i.scdn.co/image/ab67616d00001e02d9cc6f9254286e5466797ea8'><div>Heza</div></td><td style='text-align:center;'><img src='https://i.scdn.co/image/ab67616d00001e02e19546ecf8d7d85e30b4741f'><div>Bashful Creatures</div></td><td style='text-align:center;'><img src='https://i.scdn.co/image/ab67616d00001e02dc19611b9218c95a1cdebc9a'><div>Soy Pablo</div></td><td style='text-align:center;'><img src='https://i.scdn.co/image/ab67616d00001e021e7432b0c27279e2540fdf28'><div>Good At Falling</div></td><td style='text-align:center;'><img src='https://i.scdn.co/image/ab67616d00001e02140791666d7a1b2c899ed946'><div>Sure Sure</div></td></tr></table>"
            ]
          },
          "metadata": {}
        }
      ]
    },
    {
      "cell_type": "code",
      "source": [
        "result005 = spotify.recommendations(seed_artists=['7i9bNUSGORP5MIgrii3cJc'])\n",
        "# print(json.dumps(result002, indent=4))\n",
        "image_urls = []\n",
        "names = []\n",
        "for x in result005['tracks']:\n",
        "  names.append(x[\"album\"][\"name\"])\n",
        "  image_urls.append(x[\"album\"][\"images\"][1][\"url\"])\n",
        "\n",
        "display_images_with_names(image_urls, names)"
      ],
      "metadata": {
        "colab": {
          "base_uri": "https://localhost:8080/",
          "height": 1000
        },
        "id": "BSP9EGeGrY-4",
        "outputId": "485b6077-c451-40be-dd05-913e9ed01b94"
      },
      "execution_count": 96,
      "outputs": [
        {
          "output_type": "display_data",
          "data": {
            "text/plain": [
              "<IPython.core.display.HTML object>"
            ],
            "text/html": [
              "<table style='margin:auto;'><tr><td style='text-align:center;'><img src='https://i.scdn.co/image/ab67616d00001e02ba241626f376e10a42d39e70'><div>IN THE LIFE</div></td><td style='text-align:center;'><img src='https://i.scdn.co/image/ab67616d00001e0237e8ada84943276b70d63879'><div>Orange Sunshine</div></td><td style='text-align:center;'><img src='https://i.scdn.co/image/ab67616d00001e02cd9ae0938b0c0f77947205b9'><div>KAMAKURA</div></td><td style='text-align:center;'><img src='https://i.scdn.co/image/ab67616d00001e0228499928d7375a6ca4d7832c'><div>MAKING THE ROAD</div></td><td style='text-align:center;'><img src='https://i.scdn.co/image/ab67616d00001e021c0fe318c146d5c393d66297'><div>Every Little Thing LIVE TOUR オープニングコレクション</div></td></tr><td style='text-align:center;'><img src='https://i.scdn.co/image/ab67616d00001e02c61eabed6a06d6f524f7b76d'><div>LOVE TONIGHT</div></td><td style='text-align:center;'><img src='https://i.scdn.co/image/ab67616d00001e025733d3bddbe3eff1e769f97c'><div>GATES OF HEAVEN</div></td><td style='text-align:center;'><img src='https://i.scdn.co/image/ab67616d00001e0229442e65424eb85142b0c633'><div>湘南乃風 〜JOKER〜</div></td><td style='text-align:center;'><img src='https://i.scdn.co/image/ab67616d00001e026ca067b8f388c34230601cdd'><div>謎</div></td><td style='text-align:center;'><img src='https://i.scdn.co/image/ab67616d00001e02edef6f89d12679582835c5fd'><div>class book 〜class 1993 to 1996 best〜</div></td></tr><tr><td style='text-align:center;'><img src='https://i.scdn.co/image/ab67616d00001e02c8b3943f1435f313ef1dc1af'><div>I AM YOUR SINGER</div></td><td style='text-align:center;'><img src='https://i.scdn.co/image/ab67616d00001e02e79a87d962761a1b2ea3374b'><div>RUN</div></td><td style='text-align:center;'><img src='https://i.scdn.co/image/ab67616d00001e02d1066d17475031ca03e40cc6'><div>\"GIGS\" CASE OF BOφWY COMPLETE (Live From \"Gigs\" Case Of Boowy / 1987)</div></td><td style='text-align:center;'><img src='https://i.scdn.co/image/ab67616d00001e028e338a3ef5a6a2efc725e915'><div>Single Best</div></td><td style='text-align:center;'><img src='https://i.scdn.co/image/ab67616d00001e0221254b8bc57405db2e1dae1d'><div>MUSICMAN</div></td></tr><td style='text-align:center;'><img src='https://i.scdn.co/image/ab67616d00001e027a63bc2e6ac460f28b40e543'><div>Trust・Last (『仮面ライダーギーツ』主題歌)</div></td><td style='text-align:center;'><img src='https://i.scdn.co/image/ab67616d00001e02433ca8475987fe8a94c1dee7'><div>HOT LIPS(リマスター・バージョン)</div></td><td style='text-align:center;'><img src='https://i.scdn.co/image/ab67616d00001e02382d2951d0d16e788c0bede6'><div>Superfly BEST</div></td><td style='text-align:center;'><img src='https://i.scdn.co/image/ab67616d00001e0240d32176aad45613520036ff'><div>Pepperoni Quattro</div></td><td style='text-align:center;'><img src='https://i.scdn.co/image/ab67616d00001e0253430caf3f894b744bdf2934'><div>Porno Graffitti 15th Anniversary All Time Singles</div></td></tr></table>"
            ]
          },
          "metadata": {}
        }
      ]
    },
    {
      "cell_type": "code",
      "source": [
        "result006 = spotify.recommendations(seed_tracks=['4zz5dSunCrg0pmNT4ZzBf5'])\n",
        "# print(json.dumps(result002, indent=4))\n",
        "image_urls = []\n",
        "names = []\n",
        "for x in result006['tracks']:\n",
        "  names.append(x[\"album\"][\"name\"])\n",
        "  image_urls.append(x[\"album\"][\"images\"][1][\"url\"])\n",
        "\n",
        "display_images_with_names(image_urls, names)"
      ],
      "metadata": {
        "colab": {
          "base_uri": "https://localhost:8080/",
          "height": 1000
        },
        "id": "aIQ49Nkprmek",
        "outputId": "f16ef146-d332-4822-cd70-2577cbcf9f5f"
      },
      "execution_count": 97,
      "outputs": [
        {
          "output_type": "display_data",
          "data": {
            "text/plain": [
              "<IPython.core.display.HTML object>"
            ],
            "text/html": [
              "<table style='margin:auto;'><tr><td style='text-align:center;'><img src='https://i.scdn.co/image/ab67616d00001e020d3b3d4cbc10d3bb2084ee29'><div>THE GREAT VACATION VOL.2 ~SUPER BEST OF GLAY~</div></td><td style='text-align:center;'><img src='https://i.scdn.co/image/ab67616d00001e02b59cd20c10137898320f5f33'><div>ザ・ゴールデンベスト~Pressure~</div></td><td style='text-align:center;'><img src='https://i.scdn.co/image/ab67616d00001e0253430caf3f894b744bdf2934'><div>Porno Graffitti 15th Anniversary All Time Singles</div></td><td style='text-align:center;'><img src='https://i.scdn.co/image/ab67616d00001e0224548123ea494996322ae1d6'><div>WOW WAR TONIGHT</div></td><td style='text-align:center;'><img src='https://i.scdn.co/image/ab67616d00001e0216effd9c22aae98d82eef24a'><div>NEW LOVE</div></td></tr><td style='text-align:center;'><img src='https://i.scdn.co/image/ab67616d00001e022c884fd5b53086c8d6383764'><div>サンボマスター 究極ベスト</div></td><td style='text-align:center;'><img src='https://i.scdn.co/image/ab67616d00001e02439ca7ef2ce81624e7ee3b7a'><div>倉木麻衣×名探偵コナン COLLABORATION BEST 21 -真実はいつも歌にある!-</div></td><td style='text-align:center;'><img src='https://i.scdn.co/image/ab67616d00001e024247a60e41bebb3022496c82'><div>福岡ソフトバンクホークス 選手別応援歌 2015</div></td><td style='text-align:center;'><img src='https://i.scdn.co/image/ab67616d00001e0273adad114339c93410574fb6'><div>ファンキーモンキーベイビーズ2</div></td><td style='text-align:center;'><img src='https://i.scdn.co/image/ab67616d00001e027c72d9600d1482e1f31f7584'><div>湘南乃風 〜Single Best〜</div></td></tr><tr><td style='text-align:center;'><img src='https://i.scdn.co/image/ab67616d00001e0261d9077722a1b584a83d1d2d'><div>SOUL VACATION</div></td><td style='text-align:center;'><img src='https://i.scdn.co/image/ab67616d00001e02beb8a0b2e635a159e6b1a475'><div>かつて天才だった俺たちへ</div></td><td style='text-align:center;'><img src='https://i.scdn.co/image/ab67616d00001e028c8aec82be4557106ff65483'><div>TM NETWORK ORIGINAL SINGLES 1984-1999</div></td><td style='text-align:center;'><img src='https://i.scdn.co/image/ab67616d00001e02f66f2c3fc09edec8962fe291'><div>ZUSHI(13 TRACKS VERSION)</div></td><td style='text-align:center;'><img src='https://i.scdn.co/image/ab67616d00001e0229442e65424eb85142b0c633'><div>湘南乃風 〜JOKER〜</div></td></tr><td style='text-align:center;'><img src='https://i.scdn.co/image/ab67616d00001e02ce51ffc5c742ed217779cb9d'><div>MAGIC</div></td><td style='text-align:center;'><img src='https://i.scdn.co/image/ab67616d00001e02444be612d18aed64a9f38ca4'><div>LOVE PUNCH</div></td><td style='text-align:center;'><img src='https://i.scdn.co/image/ab67616d00001e028318819d8ed00918ac4dbad4'><div>ロス タイム</div></td><td style='text-align:center;'><img src='https://i.scdn.co/image/ab67616d00001e0234ebf107b6b1609e74f6b68d'><div>TRF 15th Anniversary BEST - MEMORIES -</div></td><td style='text-align:center;'><img src='https://i.scdn.co/image/ab67616d00001e026782765be77091cd1f74afa1'><div>BURN THE SECRET</div></td></tr></table>"
            ]
          },
          "metadata": {}
        }
      ]
    },
    {
      "cell_type": "code",
      "source": [],
      "metadata": {
        "id": "jvypLzsusIFe"
      },
      "execution_count": null,
      "outputs": []
    }
  ]
}