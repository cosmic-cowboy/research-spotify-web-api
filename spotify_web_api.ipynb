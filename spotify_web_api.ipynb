{
  "nbformat": 4,
  "nbformat_minor": 0,
  "metadata": {
    "colab": {
      "provenance": [],
      "authorship_tag": "ABX9TyNK8XBhOZUYXV7WoJIZ6TKk",
      "include_colab_link": true
    },
    "kernelspec": {
      "name": "python3",
      "display_name": "Python 3"
    },
    "language_info": {
      "name": "python"
    }
  },
  "cells": [
    {
      "cell_type": "markdown",
      "metadata": {
        "id": "view-in-github",
        "colab_type": "text"
      },
      "source": [
        "<a href=\"https://colab.research.google.com/github/cosmic-cowboy/research-spotify-web-api/blob/main/spotify_web_api.ipynb\" target=\"_parent\"><img src=\"https://colab.research.google.com/assets/colab-badge.svg\" alt=\"Open In Colab\"/></a>"
      ]
    },
    {
      "cell_type": "code",
      "execution_count": 3,
      "metadata": {
        "colab": {
          "base_uri": "https://localhost:8080/"
        },
        "id": "zBHQ0gpWXkE_",
        "outputId": "425d8a53-c7b0-4771-8725-f69481efbba4"
      },
      "outputs": [
        {
          "output_type": "stream",
          "name": "stdout",
          "text": [
            "Looking in indexes: https://pypi.org/simple, https://us-python.pkg.dev/colab-wheels/public/simple/\n",
            "Requirement already satisfied: spotipy in /usr/local/lib/python3.10/dist-packages (2.23.0)\n",
            "Requirement already satisfied: redis>=3.5.3 in /usr/local/lib/python3.10/dist-packages (from spotipy) (4.5.5)\n",
            "Requirement already satisfied: requests>=2.25.0 in /usr/local/lib/python3.10/dist-packages (from spotipy) (2.27.1)\n",
            "Requirement already satisfied: six>=1.15.0 in /usr/local/lib/python3.10/dist-packages (from spotipy) (1.16.0)\n",
            "Requirement already satisfied: urllib3>=1.26.0 in /usr/local/lib/python3.10/dist-packages (from spotipy) (1.26.15)\n",
            "Requirement already satisfied: async-timeout>=4.0.2 in /usr/local/lib/python3.10/dist-packages (from redis>=3.5.3->spotipy) (4.0.2)\n",
            "Requirement already satisfied: certifi>=2017.4.17 in /usr/local/lib/python3.10/dist-packages (from requests>=2.25.0->spotipy) (2022.12.7)\n",
            "Requirement already satisfied: charset-normalizer~=2.0.0 in /usr/local/lib/python3.10/dist-packages (from requests>=2.25.0->spotipy) (2.0.12)\n",
            "Requirement already satisfied: idna<4,>=2.5 in /usr/local/lib/python3.10/dist-packages (from requests>=2.25.0->spotipy) (3.4)\n"
          ]
        }
      ],
      "source": [
        "!pip install spotipy"
      ]
    },
    {
      "cell_type": "code",
      "source": [
        "import pandas as pd\n",
        "import spotipy\n",
        "from spotipy.oauth2 import SpotifyClientCredentials\n",
        "import json\n",
        "\n",
        "client_id = ''\n",
        "client_secret = ''\n",
        "client_credentials_manager = spotipy.oauth2.SpotifyClientCredentials(client_id, client_secret)\n",
        "spotify = spotipy.Spotify(client_credentials_manager=client_credentials_manager)"
      ],
      "metadata": {
        "id": "YUG3Gec-XpLB"
      },
      "execution_count": 4,
      "outputs": []
    },
    {
      "cell_type": "code",
      "source": [
        "from IPython.display import display, HTML\n",
        "def display_images_with_names(image_urls, names):\n",
        "    html = \"<table style='margin:auto;'>\"\n",
        "    \n",
        "    for i, (url, name) in enumerate(zip(image_urls, names)):\n",
        "        # 10個ごとに新しい行を追加\n",
        "        if i % 10 == 0:\n",
        "            html += \"<tr>\"\n",
        "        \n",
        "        html += \"<td style='text-align:center;'>\"\n",
        "        html += f\"<img src='{url}'><div>{name}</div>\"\n",
        "        html += \"</td>\"\n",
        "        \n",
        "        # 10個ごとに行を終了\n",
        "        if (i + 1) % 5 == 0:\n",
        "            html += \"</tr>\"\n",
        "    \n",
        "    # 行が10で割り切れない場合の対応\n",
        "    if len(image_urls) % 5 != 0:\n",
        "        html += \"</tr>\"\n",
        "    \n",
        "    html += \"</table>\"\n",
        "    \n",
        "    display(HTML(html))"
      ],
      "metadata": {
        "id": "SEdl9jnbbO7D"
      },
      "execution_count": 75,
      "outputs": []
    },
    {
      "cell_type": "code",
      "source": [
        "# search artist\n",
        "name = 'akira kosemura'\n",
        "result001 = spotify.search(q='artist:' + name, type='artist')\n",
        "\n",
        "#print(json.dumps(result001, indent=4))\n",
        "print(result001['artists']['items'][0]['id'])\n",
        "print(result001['artists']['items'][0]['name'])\n",
        "display(Image(url=result001['artists']['items'][0]['images'][2]['url']))\n",
        "\n"
      ],
      "metadata": {
        "colab": {
          "base_uri": "https://localhost:8080/",
          "height": 216
        },
        "id": "KDOVU48ycSPL",
        "outputId": "267f8dfc-aaf8-4456-f7ed-d418ce527efc"
      },
      "execution_count": 77,
      "outputs": [
        {
          "output_type": "stream",
          "name": "stdout",
          "text": [
            "4n1lW38WKgyPEIZowQ3AND\n",
            "Akira Kosemura\n"
          ]
        },
        {
          "output_type": "display_data",
          "data": {
            "text/html": [
              "<img src=\"https://i.scdn.co/image/ab6761610000f1787bb2ed541b05224e86d02959\"/>"
            ],
            "text/plain": [
              "<IPython.core.display.Image object>"
            ]
          },
          "metadata": {}
        }
      ]
    },
    {
      "cell_type": "code",
      "source": [
        "result002 = spotify.recommendations(seed_artists=['4n1lW38WKgyPEIZowQ3AND'])\n",
        "# print(json.dumps(result002, indent=4))\n",
        "image_urls = []\n",
        "names = []\n",
        "for x in result002['tracks']:\n",
        "  names.append(x[\"album\"][\"name\"])\n",
        "  image_urls.append(x[\"album\"][\"images\"][1][\"url\"])\n",
        "\n",
        "display_images_with_names(image_urls, names)"
      ],
      "metadata": {
        "colab": {
          "base_uri": "https://localhost:8080/",
          "height": 1000
        },
        "id": "TLPcX3duh0Rp",
        "outputId": "c4a0be30-af98-44b3-bf88-cf2770a845db"
      },
      "execution_count": 79,
      "outputs": [
        {
          "output_type": "display_data",
          "data": {
            "text/plain": [
              "<IPython.core.display.HTML object>"
            ],
            "text/html": [
              "<table style='margin:auto;'><tr><td style='text-align:center;'><img src='https://i.scdn.co/image/ab67616d00001e020597fd4ebf2fe038a446ae48'><div>In The Misty Dream Till The Dawn</div></td><td style='text-align:center;'><img src='https://i.scdn.co/image/ab67616d00001e02676e6e2d6a9ead1ec9644d34'><div>Longhope</div></td><td style='text-align:center;'><img src='https://i.scdn.co/image/ab67616d00001e02b109943ad8541052d2742c85'><div>Ichiru</div></td><td style='text-align:center;'><img src='https://i.scdn.co/image/ab67616d00001e027b65dfbb23c9d5cb6034ef8c'><div>Bits and Pieces</div></td><td style='text-align:center;'><img src='https://i.scdn.co/image/ab67616d00001e02ece7ed9ad8c36212e910ed47'><div>Still Blue</div></td></tr><td style='text-align:center;'><img src='https://i.scdn.co/image/ab67616d00001e023e9e280c4d3863ba7b5108bb'><div>Marginalia V</div></td><td style='text-align:center;'><img src='https://i.scdn.co/image/ab67616d00001e02a00272002a979e01511ebc41'><div>88 Keys II</div></td><td style='text-align:center;'><img src='https://i.scdn.co/image/ab67616d00001e02b156297e855b9a5a098f1e08'><div>Vikvib</div></td><td style='text-align:center;'><img src='https://i.scdn.co/image/ab67616d00001e020ffbe860a6895330b768877b'><div>Colours - Victor Jazz Nation</div></td><td style='text-align:center;'><img src='https://i.scdn.co/image/ab67616d00001e024b70ec39d6161249e8f0a3a1'><div>The Morning Is a River</div></td></tr><tr><td style='text-align:center;'><img src='https://i.scdn.co/image/ab67616d00001e02664c8cc0ab4947dc5a660722'><div>海街diary オリジナルサウンドトラック</div></td><td style='text-align:center;'><img src='https://i.scdn.co/image/ab67616d00001e02ff9985287f836a008dad1bc3'><div>\"β\" 1</div></td><td style='text-align:center;'><img src='https://i.scdn.co/image/ab67616d00001e02229f82ed16ec36140423e6c3'><div>Cry Wolf</div></td><td style='text-align:center;'><img src='https://i.scdn.co/image/ab67616d00001e0263c5585c7c8cebbdce49b933'><div>Costero</div></td><td style='text-align:center;'><img src='https://i.scdn.co/image/ab67616d00001e029ea4df6ac465b387ff984e29'><div>Des Plumes Dans La Tête</div></td></tr><td style='text-align:center;'><img src='https://i.scdn.co/image/ab67616d00001e027ed906848828c4334427ba83'><div>Drift</div></td><td style='text-align:center;'><img src='https://i.scdn.co/image/ab67616d00001e0257e843f1f129d5be712b0bcd'><div>Night Rain</div></td><td style='text-align:center;'><img src='https://i.scdn.co/image/ab67616d00001e021eb9e34acd263ee7b2ee74fc'><div>Summer Ghost Original Sound Track</div></td><td style='text-align:center;'><img src='https://i.scdn.co/image/ab67616d00001e02e2e710de6c4568a019d8479d'><div>Spring Greetings</div></td><td style='text-align:center;'><img src='https://i.scdn.co/image/ab67616d00001e02eda6633074a6ec665fb818fe'><div>Open</div></td></tr></table>"
            ]
          },
          "metadata": {}
        }
      ]
    },
    {
      "cell_type": "code",
      "source": [
        "# search artist\n",
        "name = 'Bambi'\n",
        "result003 = spotify.search(q='track:' + name, type='track')\n",
        "\n",
        "print(result003)\n",
        "print(result003['tracks']['items'][0]['id'])\n",
        "print(result003['tracks']['items'][0]['name'])\n",
        "print(result003['tracks']['items'][0]['album']['artists'][0]['name'])\n",
        "display(Image(url=result003['tracks']['items'][0]['album']['images'][1]['url']))\n"
      ],
      "metadata": {
        "colab": {
          "base_uri": "https://localhost:8080/",
          "height": 412
        },
        "id": "-NOCl8UQnPsj",
        "outputId": "2bcd8e13-9dff-455a-bf97-10edfaef470b"
      },
      "execution_count": 90,
      "outputs": [
        {
          "output_type": "stream",
          "name": "stdout",
          "text": [
            "{'tracks': {'href': 'https://api.spotify.com/v1/search?query=track%3ABambi&type=track&offset=0&limit=10', 'items': [{'album': {'album_type': 'album', 'artists': [{'external_urls': {'spotify': 'https://open.spotify.com/artist/1btWGBz4Uu1HozTwb2Lm8A'}, 'href': 'https://api.spotify.com/v1/artists/1btWGBz4Uu1HozTwb2Lm8A', 'id': '1btWGBz4Uu1HozTwb2Lm8A', 'name': 'Hippo Campus', 'type': 'artist', 'uri': 'spotify:artist:1btWGBz4Uu1HozTwb2Lm8A'}], 'available_markets': ['CA', 'MX', 'US'], 'external_urls': {'spotify': 'https://open.spotify.com/album/6tGEWfRhonWuuQikgOnYhN'}, 'href': 'https://api.spotify.com/v1/albums/6tGEWfRhonWuuQikgOnYhN', 'id': '6tGEWfRhonWuuQikgOnYhN', 'images': [{'height': 640, 'url': 'https://i.scdn.co/image/ab67616d0000b27382c6a08699bfd0e4bbe95001', 'width': 640}, {'height': 300, 'url': 'https://i.scdn.co/image/ab67616d00001e0282c6a08699bfd0e4bbe95001', 'width': 300}, {'height': 64, 'url': 'https://i.scdn.co/image/ab67616d0000485182c6a08699bfd0e4bbe95001', 'width': 64}], 'name': 'Bambi', 'release_date': '2018-09-28', 'release_date_precision': 'day', 'total_tracks': 10, 'type': 'album', 'uri': 'spotify:album:6tGEWfRhonWuuQikgOnYhN'}, 'artists': [{'external_urls': {'spotify': 'https://open.spotify.com/artist/1btWGBz4Uu1HozTwb2Lm8A'}, 'href': 'https://api.spotify.com/v1/artists/1btWGBz4Uu1HozTwb2Lm8A', 'id': '1btWGBz4Uu1HozTwb2Lm8A', 'name': 'Hippo Campus', 'type': 'artist', 'uri': 'spotify:artist:1btWGBz4Uu1HozTwb2Lm8A'}], 'available_markets': ['CA', 'MX', 'US'], 'disc_number': 1, 'duration_ms': 194400, 'explicit': True, 'external_ids': {'isrc': 'QM5BK1800228'}, 'external_urls': {'spotify': 'https://open.spotify.com/track/5dmPNuHmRRJuHmJTDa7NuJ'}, 'href': 'https://api.spotify.com/v1/tracks/5dmPNuHmRRJuHmJTDa7NuJ', 'id': '5dmPNuHmRRJuHmJTDa7NuJ', 'is_local': False, 'name': 'Bambi', 'popularity': 59, 'preview_url': 'https://p.scdn.co/mp3-preview/725bb47fdb91fec643f7c1cee072a2930b69413e?cid=e2c5e717fa3347e1a6e0266e4dd88fda', 'track_number': 4, 'type': 'track', 'uri': 'spotify:track:5dmPNuHmRRJuHmJTDa7NuJ'}, {'album': {'album_type': 'single', 'artists': [{'external_urls': {'spotify': 'https://open.spotify.com/artist/4ufh0WuMZh6y4Dmdnklvdl'}, 'href': 'https://api.spotify.com/v1/artists/4ufh0WuMZh6y4Dmdnklvdl', 'id': '4ufh0WuMZh6y4Dmdnklvdl', 'name': 'BAEKHYUN', 'type': 'artist', 'uri': 'spotify:artist:4ufh0WuMZh6y4Dmdnklvdl'}], 'available_markets': ['AD', 'AE', 'AG', 'AL', 'AM', 'AO', 'AR', 'AT', 'AU', 'AZ', 'BA', 'BB', 'BD', 'BE', 'BF', 'BG', 'BH', 'BI', 'BJ', 'BN', 'BO', 'BR', 'BS', 'BT', 'BW', 'BY', 'BZ', 'CA', 'CD', 'CG', 'CH', 'CI', 'CL', 'CM', 'CO', 'CR', 'CV', 'CW', 'CY', 'CZ', 'DE', 'DJ', 'DK', 'DM', 'DO', 'DZ', 'EC', 'EE', 'EG', 'ES', 'ET', 'FI', 'FJ', 'FM', 'FR', 'GA', 'GB', 'GD', 'GE', 'GH', 'GM', 'GN', 'GQ', 'GR', 'GT', 'GW', 'GY', 'HK', 'HN', 'HR', 'HT', 'HU', 'ID', 'IE', 'IL', 'IN', 'IQ', 'IS', 'IT', 'JM', 'JO', 'JP', 'KE', 'KG', 'KH', 'KI', 'KM', 'KN', 'KR', 'KW', 'KZ', 'LA', 'LB', 'LC', 'LI', 'LK', 'LR', 'LS', 'LT', 'LU', 'LV', 'LY', 'MA', 'MC', 'MD', 'ME', 'MG', 'MH', 'MK', 'ML', 'MN', 'MO', 'MR', 'MT', 'MU', 'MV', 'MW', 'MX', 'MY', 'MZ', 'NA', 'NE', 'NG', 'NI', 'NL', 'NO', 'NP', 'NR', 'NZ', 'OM', 'PA', 'PE', 'PG', 'PH', 'PK', 'PL', 'PS', 'PT', 'PW', 'PY', 'QA', 'RO', 'RS', 'RW', 'SA', 'SB', 'SC', 'SE', 'SG', 'SI', 'SK', 'SL', 'SM', 'SN', 'SR', 'ST', 'SV', 'SZ', 'TD', 'TG', 'TH', 'TJ', 'TL', 'TN', 'TO', 'TR', 'TT', 'TV', 'TW', 'TZ', 'UA', 'UG', 'US', 'UY', 'UZ', 'VC', 'VE', 'VN', 'VU', 'WS', 'XK', 'ZA', 'ZM', 'ZW'], 'external_urls': {'spotify': 'https://open.spotify.com/album/5xOx4mWABbTj0qWyZC4q1p'}, 'href': 'https://api.spotify.com/v1/albums/5xOx4mWABbTj0qWyZC4q1p', 'id': '5xOx4mWABbTj0qWyZC4q1p', 'images': [{'height': 640, 'url': 'https://i.scdn.co/image/ab67616d0000b2735e64c5b1565cac58c05f3c0d', 'width': 640}, {'height': 300, 'url': 'https://i.scdn.co/image/ab67616d00001e025e64c5b1565cac58c05f3c0d', 'width': 300}, {'height': 64, 'url': 'https://i.scdn.co/image/ab67616d000048515e64c5b1565cac58c05f3c0d', 'width': 64}], 'name': 'Bambi - The 3rd Mini Album', 'release_date': '2021-03-30', 'release_date_precision': 'day', 'total_tracks': 6, 'type': 'album', 'uri': 'spotify:album:5xOx4mWABbTj0qWyZC4q1p'}, 'artists': [{'external_urls': {'spotify': 'https://open.spotify.com/artist/4ufh0WuMZh6y4Dmdnklvdl'}, 'href': 'https://api.spotify.com/v1/artists/4ufh0WuMZh6y4Dmdnklvdl', 'id': '4ufh0WuMZh6y4Dmdnklvdl', 'name': 'BAEKHYUN', 'type': 'artist', 'uri': 'spotify:artist:4ufh0WuMZh6y4Dmdnklvdl'}], 'available_markets': ['AR', 'AU', 'AT', 'BE', 'BO', 'BR', 'BG', 'CA', 'CL', 'CO', 'CR', 'CY', 'CZ', 'DK', 'DO', 'DE', 'EC', 'EE', 'SV', 'FI', 'FR', 'GR', 'GT', 'HN', 'HK', 'HU', 'IS', 'IE', 'IT', 'LV', 'LT', 'LU', 'MY', 'MT', 'MX', 'NL', 'NZ', 'NI', 'NO', 'PA', 'PY', 'PE', 'PH', 'PL', 'PT', 'SG', 'SK', 'ES', 'SE', 'CH', 'TW', 'TR', 'UY', 'US', 'GB', 'AD', 'LI', 'MC', 'ID', 'JP', 'TH', 'VN', 'RO', 'IL', 'ZA', 'SA', 'AE', 'BH', 'QA', 'OM', 'KW', 'EG', 'MA', 'DZ', 'TN', 'LB', 'JO', 'PS', 'IN', 'BY', 'KZ', 'MD', 'UA', 'AL', 'BA', 'HR', 'ME', 'MK', 'RS', 'SI', 'KR', 'BD', 'PK', 'LK', 'GH', 'KE', 'NG', 'TZ', 'UG', 'AG', 'AM', 'BS', 'BB', 'BZ', 'BT', 'BW', 'BF', 'CV', 'CW', 'DM', 'FJ', 'GM', 'GE', 'GD', 'GW', 'GY', 'HT', 'JM', 'KI', 'LS', 'LR', 'MW', 'MV', 'ML', 'MH', 'FM', 'NA', 'NR', 'NE', 'PW', 'PG', 'WS', 'SM', 'ST', 'SN', 'SC', 'SL', 'SB', 'KN', 'LC', 'VC', 'SR', 'TL', 'TO', 'TT', 'TV', 'VU', 'AZ', 'BN', 'BI', 'KH', 'CM', 'TD', 'KM', 'GQ', 'SZ', 'GA', 'GN', 'KG', 'LA', 'MO', 'MR', 'MN', 'NP', 'RW', 'TG', 'UZ', 'ZW', 'BJ', 'MG', 'MU', 'MZ', 'AO', 'CI', 'DJ', 'ZM', 'CD', 'CG', 'IQ', 'LY', 'TJ', 'VE', 'ET', 'XK'], 'disc_number': 1, 'duration_ms': 213053, 'explicit': False, 'external_ids': {'isrc': 'KRA302100105'}, 'external_urls': {'spotify': 'https://open.spotify.com/track/60VaORSJ5x1D4ZPSc0g2En'}, 'href': 'https://api.spotify.com/v1/tracks/60VaORSJ5x1D4ZPSc0g2En', 'id': '60VaORSJ5x1D4ZPSc0g2En', 'is_local': False, 'name': 'Bambi', 'popularity': 66, 'preview_url': 'https://p.scdn.co/mp3-preview/33eab67469fd2508087d88c28c9edfac7facea6a?cid=e2c5e717fa3347e1a6e0266e4dd88fda', 'track_number': 2, 'type': 'track', 'uri': 'spotify:track:60VaORSJ5x1D4ZPSc0g2En'}, {'album': {'album_type': 'single', 'artists': [{'external_urls': {'spotify': 'https://open.spotify.com/artist/3FhVFMTffYD78U04viWgVo'}, 'href': 'https://api.spotify.com/v1/artists/3FhVFMTffYD78U04viWgVo', 'id': '3FhVFMTffYD78U04viWgVo', 'name': 'Verona Rizzo', 'type': 'artist', 'uri': 'spotify:artist:3FhVFMTffYD78U04viWgVo'}], 'available_markets': ['AD', 'AE', 'AG', 'AL', 'AM', 'AO', 'AR', 'AT', 'AU', 'AZ', 'BA', 'BB', 'BD', 'BE', 'BF', 'BG', 'BH', 'BI', 'BJ', 'BN', 'BO', 'BR', 'BS', 'BT', 'BW', 'BY', 'BZ', 'CA', 'CD', 'CG', 'CH', 'CI', 'CL', 'CM', 'CO', 'CR', 'CV', 'CW', 'CY', 'CZ', 'DE', 'DJ', 'DK', 'DM', 'DO', 'DZ', 'EC', 'EE', 'EG', 'ES', 'ET', 'FI', 'FJ', 'FM', 'FR', 'GA', 'GB', 'GD', 'GE', 'GH', 'GM', 'GN', 'GQ', 'GR', 'GT', 'GW', 'GY', 'HK', 'HN', 'HR', 'HT', 'HU', 'ID', 'IE', 'IL', 'IN', 'IQ', 'IS', 'IT', 'JM', 'JO', 'JP', 'KE', 'KG', 'KH', 'KI', 'KM', 'KN', 'KR', 'KW', 'KZ', 'LA', 'LB', 'LC', 'LI', 'LK', 'LR', 'LS', 'LT', 'LU', 'LV', 'LY', 'MA', 'MC', 'MD', 'ME', 'MG', 'MH', 'MK', 'ML', 'MN', 'MO', 'MR', 'MT', 'MU', 'MV', 'MW', 'MX', 'MY', 'MZ', 'NA', 'NE', 'NG', 'NI', 'NL', 'NO', 'NP', 'NR', 'NZ', 'OM', 'PA', 'PE', 'PG', 'PH', 'PK', 'PL', 'PS', 'PT', 'PW', 'PY', 'QA', 'RO', 'RS', 'RW', 'SA', 'SB', 'SC', 'SE', 'SG', 'SI', 'SK', 'SL', 'SM', 'SN', 'SR', 'ST', 'SV', 'SZ', 'TD', 'TG', 'TH', 'TJ', 'TL', 'TN', 'TO', 'TR', 'TT', 'TV', 'TW', 'TZ', 'UA', 'UG', 'US', 'UY', 'UZ', 'VC', 'VE', 'VN', 'VU', 'WS', 'XK', 'ZA', 'ZM', 'ZW'], 'external_urls': {'spotify': 'https://open.spotify.com/album/2Uai0rWKNl4B7s3k7muORv'}, 'href': 'https://api.spotify.com/v1/albums/2Uai0rWKNl4B7s3k7muORv', 'id': '2Uai0rWKNl4B7s3k7muORv', 'images': [{'height': 640, 'url': 'https://i.scdn.co/image/ab67616d0000b2730aa8dc5ccc0f5f4075e43cec', 'width': 640}, {'height': 300, 'url': 'https://i.scdn.co/image/ab67616d00001e020aa8dc5ccc0f5f4075e43cec', 'width': 300}, {'height': 64, 'url': 'https://i.scdn.co/image/ab67616d000048510aa8dc5ccc0f5f4075e43cec', 'width': 64}], 'name': 'Il mio bambino', 'release_date': '2022-04-29', 'release_date_precision': 'day', 'total_tracks': 1, 'type': 'album', 'uri': 'spotify:album:2Uai0rWKNl4B7s3k7muORv'}, 'artists': [{'external_urls': {'spotify': 'https://open.spotify.com/artist/3FhVFMTffYD78U04viWgVo'}, 'href': 'https://api.spotify.com/v1/artists/3FhVFMTffYD78U04viWgVo', 'id': '3FhVFMTffYD78U04viWgVo', 'name': 'Verona Rizzo', 'type': 'artist', 'uri': 'spotify:artist:3FhVFMTffYD78U04viWgVo'}], 'available_markets': ['AR', 'AU', 'AT', 'BE', 'BO', 'BR', 'BG', 'CA', 'CL', 'CO', 'CR', 'CY', 'CZ', 'DK', 'DO', 'DE', 'EC', 'EE', 'SV', 'FI', 'FR', 'GR', 'GT', 'HN', 'HK', 'HU', 'IS', 'IE', 'IT', 'LV', 'LT', 'LU', 'MY', 'MT', 'MX', 'NL', 'NZ', 'NI', 'NO', 'PA', 'PY', 'PE', 'PH', 'PL', 'PT', 'SG', 'SK', 'ES', 'SE', 'CH', 'TW', 'TR', 'UY', 'US', 'GB', 'AD', 'LI', 'MC', 'ID', 'JP', 'TH', 'VN', 'RO', 'IL', 'ZA', 'SA', 'AE', 'BH', 'QA', 'OM', 'KW', 'EG', 'MA', 'DZ', 'TN', 'LB', 'JO', 'PS', 'IN', 'BY', 'KZ', 'MD', 'UA', 'AL', 'BA', 'HR', 'ME', 'MK', 'RS', 'SI', 'KR', 'BD', 'PK', 'LK', 'GH', 'KE', 'NG', 'TZ', 'UG', 'AG', 'AM', 'BS', 'BB', 'BZ', 'BT', 'BW', 'BF', 'CV', 'CW', 'DM', 'FJ', 'GM', 'GE', 'GD', 'GW', 'GY', 'HT', 'JM', 'KI', 'LS', 'LR', 'MW', 'MV', 'ML', 'MH', 'FM', 'NA', 'NR', 'NE', 'PW', 'PG', 'WS', 'SM', 'ST', 'SN', 'SC', 'SL', 'SB', 'KN', 'LC', 'VC', 'SR', 'TL', 'TO', 'TT', 'TV', 'VU', 'AZ', 'BN', 'BI', 'KH', 'CM', 'TD', 'KM', 'GQ', 'SZ', 'GA', 'GN', 'KG', 'LA', 'MO', 'MR', 'MN', 'NP', 'RW', 'TG', 'UZ', 'ZW', 'BJ', 'MG', 'MU', 'MZ', 'AO', 'CI', 'DJ', 'ZM', 'CD', 'CG', 'IQ', 'LY', 'TJ', 'VE', 'ET', 'XK'], 'disc_number': 1, 'duration_ms': 125250, 'explicit': False, 'external_ids': {'isrc': 'SE5W32201466'}, 'external_urls': {'spotify': 'https://open.spotify.com/track/0ssGaSyS6FrfPa6NtncKnr'}, 'href': 'https://api.spotify.com/v1/tracks/0ssGaSyS6FrfPa6NtncKnr', 'id': '0ssGaSyS6FrfPa6NtncKnr', 'is_local': False, 'name': 'Il mio bambino', 'popularity': 60, 'preview_url': 'https://p.scdn.co/mp3-preview/3ef88130b8dcacdaf09f3caf458195caa06db4e2?cid=e2c5e717fa3347e1a6e0266e4dd88fda', 'track_number': 1, 'type': 'track', 'uri': 'spotify:track:0ssGaSyS6FrfPa6NtncKnr'}, {'album': {'album_type': 'album', 'artists': [{'external_urls': {'spotify': 'https://open.spotify.com/artist/3l0CmX0FuQjFxr8SK7Vqag'}, 'href': 'https://api.spotify.com/v1/artists/3l0CmX0FuQjFxr8SK7Vqag', 'id': '3l0CmX0FuQjFxr8SK7Vqag', 'name': 'Clairo', 'type': 'artist', 'uri': 'spotify:artist:3l0CmX0FuQjFxr8SK7Vqag'}], 'available_markets': ['AD', 'AE', 'AG', 'AL', 'AM', 'AO', 'AR', 'AT', 'AU', 'AZ', 'BA', 'BB', 'BD', 'BE', 'BF', 'BG', 'BH', 'BI', 'BJ', 'BN', 'BO', 'BR', 'BS', 'BT', 'BW', 'BY', 'BZ', 'CA', 'CD', 'CG', 'CH', 'CI', 'CL', 'CM', 'CO', 'CR', 'CV', 'CW', 'CY', 'CZ', 'DE', 'DJ', 'DK', 'DM', 'DO', 'DZ', 'EC', 'EE', 'EG', 'ES', 'ET', 'FI', 'FJ', 'FM', 'FR', 'GA', 'GB', 'GD', 'GE', 'GH', 'GM', 'GN', 'GQ', 'GR', 'GT', 'GW', 'GY', 'HK', 'HN', 'HR', 'HT', 'HU', 'ID', 'IE', 'IL', 'IN', 'IQ', 'IS', 'IT', 'JM', 'JO', 'JP', 'KE', 'KG', 'KH', 'KI', 'KM', 'KN', 'KR', 'KW', 'KZ', 'LA', 'LB', 'LC', 'LI', 'LK', 'LR', 'LS', 'LT', 'LU', 'LV', 'LY', 'MA', 'MC', 'MD', 'ME', 'MG', 'MH', 'MK', 'ML', 'MN', 'MO', 'MR', 'MT', 'MU', 'MV', 'MW', 'MX', 'MY', 'MZ', 'NA', 'NE', 'NG', 'NI', 'NL', 'NO', 'NP', 'NR', 'NZ', 'OM', 'PA', 'PE', 'PG', 'PH', 'PK', 'PL', 'PS', 'PT', 'PW', 'PY', 'QA', 'RO', 'RS', 'RW', 'SA', 'SB', 'SC', 'SE', 'SG', 'SI', 'SK', 'SL', 'SM', 'SN', 'SR', 'ST', 'SV', 'SZ', 'TD', 'TG', 'TH', 'TJ', 'TL', 'TN', 'TO', 'TR', 'TT', 'TV', 'TW', 'TZ', 'UA', 'UG', 'US', 'UY', 'UZ', 'VC', 'VE', 'VN', 'VU', 'WS', 'XK', 'ZA', 'ZM', 'ZW'], 'external_urls': {'spotify': 'https://open.spotify.com/album/32ium7Cxb1Xwp2MLzH2459'}, 'href': 'https://api.spotify.com/v1/albums/32ium7Cxb1Xwp2MLzH2459', 'id': '32ium7Cxb1Xwp2MLzH2459', 'images': [{'height': 640, 'url': 'https://i.scdn.co/image/ab67616d0000b2732624442cf48e4962d1422da8', 'width': 640}, {'height': 300, 'url': 'https://i.scdn.co/image/ab67616d00001e022624442cf48e4962d1422da8', 'width': 300}, {'height': 64, 'url': 'https://i.scdn.co/image/ab67616d000048512624442cf48e4962d1422da8', 'width': 64}], 'name': 'Sling', 'release_date': '2021-07-16', 'release_date_precision': 'day', 'total_tracks': 12, 'type': 'album', 'uri': 'spotify:album:32ium7Cxb1Xwp2MLzH2459'}, 'artists': [{'external_urls': {'spotify': 'https://open.spotify.com/artist/3l0CmX0FuQjFxr8SK7Vqag'}, 'href': 'https://api.spotify.com/v1/artists/3l0CmX0FuQjFxr8SK7Vqag', 'id': '3l0CmX0FuQjFxr8SK7Vqag', 'name': 'Clairo', 'type': 'artist', 'uri': 'spotify:artist:3l0CmX0FuQjFxr8SK7Vqag'}], 'available_markets': ['AR', 'AU', 'AT', 'BE', 'BO', 'BR', 'BG', 'CA', 'CL', 'CO', 'CR', 'CY', 'CZ', 'DK', 'DO', 'DE', 'EC', 'EE', 'SV', 'FI', 'FR', 'GR', 'GT', 'HN', 'HK', 'HU', 'IS', 'IE', 'IT', 'LV', 'LT', 'LU', 'MY', 'MT', 'MX', 'NL', 'NZ', 'NI', 'NO', 'PA', 'PY', 'PE', 'PH', 'PL', 'PT', 'SG', 'SK', 'ES', 'SE', 'CH', 'TW', 'TR', 'UY', 'US', 'GB', 'AD', 'LI', 'MC', 'ID', 'JP', 'TH', 'VN', 'RO', 'IL', 'ZA', 'SA', 'AE', 'BH', 'QA', 'OM', 'KW', 'EG', 'MA', 'DZ', 'TN', 'LB', 'JO', 'PS', 'IN', 'BY', 'KZ', 'MD', 'UA', 'AL', 'BA', 'HR', 'ME', 'MK', 'RS', 'SI', 'KR', 'BD', 'PK', 'LK', 'GH', 'KE', 'NG', 'TZ', 'UG', 'AG', 'AM', 'BS', 'BB', 'BZ', 'BT', 'BW', 'BF', 'CV', 'CW', 'DM', 'FJ', 'GM', 'GE', 'GD', 'GW', 'GY', 'HT', 'JM', 'KI', 'LS', 'LR', 'MW', 'MV', 'ML', 'MH', 'FM', 'NA', 'NR', 'NE', 'PW', 'PG', 'WS', 'SM', 'ST', 'SN', 'SC', 'SL', 'SB', 'KN', 'LC', 'VC', 'SR', 'TL', 'TO', 'TT', 'TV', 'VU', 'AZ', 'BN', 'BI', 'KH', 'CM', 'TD', 'KM', 'GQ', 'SZ', 'GA', 'GN', 'KG', 'LA', 'MO', 'MR', 'MN', 'NP', 'RW', 'TG', 'UZ', 'ZW', 'BJ', 'MG', 'MU', 'MZ', 'AO', 'CI', 'DJ', 'ZM', 'CD', 'CG', 'IQ', 'LY', 'TJ', 'VE', 'ET', 'XK'], 'disc_number': 1, 'duration_ms': 277400, 'explicit': False, 'external_ids': {'isrc': 'USUG12101890'}, 'external_urls': {'spotify': 'https://open.spotify.com/track/6wQXjA6KWbwPT3ydQCsJ4P'}, 'href': 'https://api.spotify.com/v1/tracks/6wQXjA6KWbwPT3ydQCsJ4P', 'id': '6wQXjA6KWbwPT3ydQCsJ4P', 'is_local': False, 'name': 'Bambi', 'popularity': 57, 'preview_url': 'https://p.scdn.co/mp3-preview/be5e83309948125fa92648691b6c102326f50891?cid=e2c5e717fa3347e1a6e0266e4dd88fda', 'track_number': 1, 'type': 'track', 'uri': 'spotify:track:6wQXjA6KWbwPT3ydQCsJ4P'}, {'album': {'album_type': 'album', 'artists': [{'external_urls': {'spotify': 'https://open.spotify.com/artist/5BvJzeQpmsdsFp4HGUYUEx'}, 'href': 'https://api.spotify.com/v1/artists/5BvJzeQpmsdsFp4HGUYUEx', 'id': '5BvJzeQpmsdsFp4HGUYUEx', 'name': 'Vampire Weekend', 'type': 'artist', 'uri': 'spotify:artist:5BvJzeQpmsdsFp4HGUYUEx'}], 'available_markets': ['AD', 'AE', 'AG', 'AL', 'AM', 'AO', 'AR', 'AT', 'AU', 'AZ', 'BA', 'BB', 'BD', 'BE', 'BF', 'BG', 'BH', 'BI', 'BJ', 'BN', 'BO', 'BR', 'BS', 'BT', 'BW', 'BY', 'BZ', 'CA', 'CD', 'CG', 'CH', 'CI', 'CL', 'CM', 'CO', 'CR', 'CV', 'CW', 'CY', 'CZ', 'DE', 'DJ', 'DK', 'DM', 'DO', 'DZ', 'EC', 'EE', 'EG', 'ES', 'ET', 'FI', 'FJ', 'FM', 'FR', 'GA', 'GB', 'GD', 'GE', 'GH', 'GM', 'GN', 'GQ', 'GR', 'GT', 'GW', 'GY', 'HK', 'HN', 'HR', 'HT', 'HU', 'ID', 'IE', 'IL', 'IN', 'IQ', 'IS', 'IT', 'JM', 'JO', 'JP', 'KE', 'KG', 'KH', 'KI', 'KM', 'KN', 'KR', 'KW', 'KZ', 'LA', 'LB', 'LC', 'LI', 'LK', 'LR', 'LS', 'LT', 'LU', 'LV', 'LY', 'MA', 'MC', 'MD', 'ME', 'MG', 'MH', 'MK', 'ML', 'MN', 'MO', 'MR', 'MT', 'MU', 'MV', 'MW', 'MX', 'MY', 'MZ', 'NA', 'NE', 'NG', 'NI', 'NL', 'NO', 'NP', 'NR', 'NZ', 'OM', 'PA', 'PE', 'PG', 'PH', 'PK', 'PL', 'PS', 'PT', 'PW', 'PY', 'QA', 'RO', 'RS', 'RW', 'SA', 'SB', 'SC', 'SE', 'SG', 'SI', 'SK', 'SL', 'SM', 'SN', 'SR', 'ST', 'SV', 'SZ', 'TD', 'TG', 'TH', 'TJ', 'TL', 'TN', 'TO', 'TR', 'TT', 'TV', 'TW', 'TZ', 'UA', 'UG', 'US', 'UY', 'UZ', 'VC', 'VE', 'VN', 'VU', 'WS', 'XK', 'ZA', 'ZM', 'ZW'], 'external_urls': {'spotify': 'https://open.spotify.com/album/1A3nVEWRJ8yvlPzawHI1pQ'}, 'href': 'https://api.spotify.com/v1/albums/1A3nVEWRJ8yvlPzawHI1pQ', 'id': '1A3nVEWRJ8yvlPzawHI1pQ', 'images': [{'height': 640, 'url': 'https://i.scdn.co/image/ab67616d0000b273a2b1d3e73c66663c01351bcf', 'width': 640}, {'height': 300, 'url': 'https://i.scdn.co/image/ab67616d00001e02a2b1d3e73c66663c01351bcf', 'width': 300}, {'height': 64, 'url': 'https://i.scdn.co/image/ab67616d00004851a2b1d3e73c66663c01351bcf', 'width': 64}], 'name': 'Father of the Bride', 'release_date': '2019-05-03', 'release_date_precision': 'day', 'total_tracks': 18, 'type': 'album', 'uri': 'spotify:album:1A3nVEWRJ8yvlPzawHI1pQ'}, 'artists': [{'external_urls': {'spotify': 'https://open.spotify.com/artist/5BvJzeQpmsdsFp4HGUYUEx'}, 'href': 'https://api.spotify.com/v1/artists/5BvJzeQpmsdsFp4HGUYUEx', 'id': '5BvJzeQpmsdsFp4HGUYUEx', 'name': 'Vampire Weekend', 'type': 'artist', 'uri': 'spotify:artist:5BvJzeQpmsdsFp4HGUYUEx'}], 'available_markets': ['AR', 'AU', 'AT', 'BE', 'BO', 'BR', 'BG', 'CA', 'CL', 'CO', 'CR', 'CY', 'CZ', 'DK', 'DO', 'DE', 'EC', 'EE', 'SV', 'FI', 'FR', 'GR', 'GT', 'HN', 'HK', 'HU', 'IS', 'IE', 'IT', 'LV', 'LT', 'LU', 'MY', 'MT', 'MX', 'NL', 'NZ', 'NI', 'NO', 'PA', 'PY', 'PE', 'PH', 'PL', 'PT', 'SG', 'SK', 'ES', 'SE', 'CH', 'TW', 'TR', 'UY', 'US', 'GB', 'AD', 'LI', 'MC', 'ID', 'JP', 'TH', 'VN', 'RO', 'IL', 'ZA', 'SA', 'AE', 'BH', 'QA', 'OM', 'KW', 'EG', 'MA', 'DZ', 'TN', 'LB', 'JO', 'PS', 'IN', 'BY', 'KZ', 'MD', 'UA', 'AL', 'BA', 'HR', 'ME', 'MK', 'RS', 'SI', 'KR', 'BD', 'PK', 'LK', 'GH', 'KE', 'NG', 'TZ', 'UG', 'AG', 'AM', 'BS', 'BB', 'BZ', 'BT', 'BW', 'BF', 'CV', 'CW', 'DM', 'FJ', 'GM', 'GE', 'GD', 'GW', 'GY', 'HT', 'JM', 'KI', 'LS', 'LR', 'MW', 'MV', 'ML', 'MH', 'FM', 'NA', 'NR', 'NE', 'PW', 'PG', 'WS', 'SM', 'ST', 'SN', 'SC', 'SL', 'SB', 'KN', 'LC', 'VC', 'SR', 'TL', 'TO', 'TT', 'TV', 'VU', 'AZ', 'BN', 'BI', 'KH', 'CM', 'TD', 'KM', 'GQ', 'SZ', 'GA', 'GN', 'KG', 'LA', 'MO', 'MR', 'MN', 'NP', 'RW', 'TG', 'UZ', 'ZW', 'BJ', 'MG', 'MU', 'MZ', 'AO', 'CI', 'DJ', 'ZM', 'CD', 'CG', 'IQ', 'LY', 'TJ', 'VE', 'ET', 'XK'], 'disc_number': 1, 'duration_ms': 102680, 'explicit': False, 'external_ids': {'isrc': 'USSM11900140'}, 'external_urls': {'spotify': 'https://open.spotify.com/track/528bxUV84T4T8HHBFSpcaV'}, 'href': 'https://api.spotify.com/v1/tracks/528bxUV84T4T8HHBFSpcaV', 'id': '528bxUV84T4T8HHBFSpcaV', 'is_local': False, 'name': 'Bambina', 'popularity': 56, 'preview_url': 'https://p.scdn.co/mp3-preview/beaeb5a36437a083411825aa0dc065ca288ca9aa?cid=e2c5e717fa3347e1a6e0266e4dd88fda', 'track_number': 3, 'type': 'track', 'uri': 'spotify:track:528bxUV84T4T8HHBFSpcaV'}, {'album': {'album_type': 'album', 'artists': [{'external_urls': {'spotify': 'https://open.spotify.com/artist/01nUdqwuIHCHLZNP2TvYVF'}, 'href': 'https://api.spotify.com/v1/artists/01nUdqwuIHCHLZNP2TvYVF', 'id': '01nUdqwuIHCHLZNP2TvYVF', 'name': 'Boy Wonder CF', 'type': 'artist', 'uri': 'spotify:artist:01nUdqwuIHCHLZNP2TvYVF'}], 'available_markets': ['AD', 'AE', 'AG', 'AL', 'AM', 'AO', 'AR', 'AT', 'AU', 'AZ', 'BA', 'BB', 'BD', 'BE', 'BF', 'BG', 'BH', 'BI', 'BJ', 'BN', 'BO', 'BR', 'BS', 'BT', 'BW', 'BZ', 'CA', 'CD', 'CG', 'CH', 'CI', 'CL', 'CM', 'CO', 'CR', 'CV', 'CW', 'CY', 'CZ', 'DE', 'DJ', 'DK', 'DM', 'DO', 'DZ', 'EC', 'EE', 'EG', 'ES', 'ET', 'FI', 'FJ', 'FM', 'FR', 'GA', 'GB', 'GD', 'GE', 'GH', 'GM', 'GN', 'GQ', 'GR', 'GT', 'GW', 'GY', 'HK', 'HN', 'HR', 'HT', 'HU', 'ID', 'IE', 'IL', 'IN', 'IQ', 'IS', 'IT', 'JM', 'JO', 'JP', 'KE', 'KG', 'KH', 'KI', 'KM', 'KN', 'KR', 'KW', 'KZ', 'LA', 'LB', 'LC', 'LI', 'LK', 'LR', 'LS', 'LT', 'LU', 'LV', 'LY', 'MA', 'MC', 'MD', 'ME', 'MG', 'MH', 'MK', 'ML', 'MN', 'MO', 'MR', 'MT', 'MU', 'MV', 'MW', 'MX', 'MY', 'MZ', 'NA', 'NE', 'NG', 'NI', 'NL', 'NO', 'NP', 'NR', 'NZ', 'OM', 'PA', 'PE', 'PG', 'PH', 'PK', 'PL', 'PS', 'PT', 'PW', 'PY', 'QA', 'RO', 'RS', 'RW', 'SA', 'SB', 'SC', 'SE', 'SG', 'SI', 'SK', 'SL', 'SM', 'SN', 'SR', 'ST', 'SV', 'SZ', 'TD', 'TG', 'TH', 'TJ', 'TL', 'TN', 'TO', 'TR', 'TT', 'TV', 'TW', 'TZ', 'UA', 'UG', 'US', 'UY', 'UZ', 'VC', 'VE', 'VN', 'VU', 'WS', 'XK', 'ZA', 'ZM', 'ZW'], 'external_urls': {'spotify': 'https://open.spotify.com/album/5CckZmLqh8aJ74pGLZPmaN'}, 'href': 'https://api.spotify.com/v1/albums/5CckZmLqh8aJ74pGLZPmaN', 'id': '5CckZmLqh8aJ74pGLZPmaN', 'images': [{'height': 640, 'url': 'https://i.scdn.co/image/ab67616d0000b2739dc763bb29af11d863db1796', 'width': 640}, {'height': 300, 'url': 'https://i.scdn.co/image/ab67616d00001e029dc763bb29af11d863db1796', 'width': 300}, {'height': 64, 'url': 'https://i.scdn.co/image/ab67616d000048519dc763bb29af11d863db1796', 'width': 64}], 'name': 'Boy Wonder Presents Chosen Few Grandes Exitos', 'release_date': '2013-06-04', 'release_date_precision': 'day', 'total_tracks': 18, 'type': 'album', 'uri': 'spotify:album:5CckZmLqh8aJ74pGLZPmaN'}, 'artists': [{'external_urls': {'spotify': 'https://open.spotify.com/artist/01nUdqwuIHCHLZNP2TvYVF'}, 'href': 'https://api.spotify.com/v1/artists/01nUdqwuIHCHLZNP2TvYVF', 'id': '01nUdqwuIHCHLZNP2TvYVF', 'name': 'Boy Wonder CF', 'type': 'artist', 'uri': 'spotify:artist:01nUdqwuIHCHLZNP2TvYVF'}, {'external_urls': {'spotify': 'https://open.spotify.com/artist/7qYeIN2r4H1kBvr0Gm9Iav'}, 'href': 'https://api.spotify.com/v1/artists/7qYeIN2r4H1kBvr0Gm9Iav', 'id': '7qYeIN2r4H1kBvr0Gm9Iav', 'name': 'Randy', 'type': 'artist', 'uri': 'spotify:artist:7qYeIN2r4H1kBvr0Gm9Iav'}, {'external_urls': {'spotify': 'https://open.spotify.com/artist/5fJsY7afrbsyzJj9wdzJMh'}, 'href': 'https://api.spotify.com/v1/artists/5fJsY7afrbsyzJj9wdzJMh', 'id': '5fJsY7afrbsyzJj9wdzJMh', 'name': 'Tito \"El Bambino\"', 'type': 'artist', 'uri': 'spotify:artist:5fJsY7afrbsyzJj9wdzJMh'}], 'available_markets': ['AR', 'AU', 'AT', 'BE', 'BO', 'BR', 'BG', 'CA', 'CL', 'CO', 'CR', 'CY', 'CZ', 'DK', 'DO', 'DE', 'EC', 'EE', 'SV', 'FI', 'FR', 'GR', 'GT', 'HN', 'HK', 'HU', 'IS', 'IE', 'IT', 'LV', 'LT', 'LU', 'MY', 'MT', 'MX', 'NL', 'NZ', 'NI', 'NO', 'PA', 'PY', 'PE', 'PH', 'PL', 'PT', 'SG', 'SK', 'ES', 'SE', 'CH', 'TW', 'TR', 'UY', 'US', 'GB', 'AD', 'LI', 'MC', 'ID', 'JP', 'TH', 'VN', 'RO', 'IL', 'ZA', 'SA', 'AE', 'BH', 'QA', 'OM', 'KW', 'EG', 'MA', 'DZ', 'TN', 'LB', 'JO', 'PS', 'IN', 'KZ', 'MD', 'UA', 'AL', 'BA', 'HR', 'ME', 'MK', 'RS', 'SI', 'KR', 'BD', 'PK', 'LK', 'GH', 'KE', 'NG', 'TZ', 'UG', 'AG', 'AM', 'BS', 'BB', 'BZ', 'BT', 'BW', 'BF', 'CV', 'CW', 'DM', 'FJ', 'GM', 'GE', 'GD', 'GW', 'GY', 'HT', 'JM', 'KI', 'LS', 'LR', 'MW', 'MV', 'ML', 'MH', 'FM', 'NA', 'NR', 'NE', 'PW', 'PG', 'WS', 'SM', 'ST', 'SN', 'SC', 'SL', 'SB', 'KN', 'LC', 'VC', 'SR', 'TL', 'TO', 'TT', 'TV', 'VU', 'AZ', 'BN', 'BI', 'KH', 'CM', 'TD', 'KM', 'GQ', 'SZ', 'GA', 'GN', 'KG', 'LA', 'MO', 'MR', 'MN', 'NP', 'RW', 'TG', 'UZ', 'ZW', 'BJ', 'MG', 'MU', 'MZ', 'AO', 'CI', 'DJ', 'ZM', 'CD', 'CG', 'IQ', 'LY', 'TJ', 'VE', 'ET', 'XK'], 'disc_number': 1, 'duration_ms': 192040, 'explicit': False, 'external_ids': {'isrc': 'USASN1301052'}, 'external_urls': {'spotify': 'https://open.spotify.com/track/57zpFPybSWc4aNwDHV0kBo'}, 'href': 'https://api.spotify.com/v1/tracks/57zpFPybSWc4aNwDHV0kBo', 'id': '57zpFPybSWc4aNwDHV0kBo', 'is_local': False, 'name': 'Siente El Boom (feat. Randy & Tito El Bambino)', 'popularity': 64, 'preview_url': 'https://p.scdn.co/mp3-preview/a06d7af9bccf0f02a8487496cff9363ffbbd84fb?cid=e2c5e717fa3347e1a6e0266e4dd88fda', 'track_number': 3, 'type': 'track', 'uri': 'spotify:track:57zpFPybSWc4aNwDHV0kBo'}, {'album': {'album_type': 'album', 'artists': [{'external_urls': {'spotify': 'https://open.spotify.com/artist/4TsHKU8l8Wq7n7OPVikirn'}, 'href': 'https://api.spotify.com/v1/artists/4TsHKU8l8Wq7n7OPVikirn', 'id': '4TsHKU8l8Wq7n7OPVikirn', 'name': 'Jidenna', 'type': 'artist', 'uri': 'spotify:artist:4TsHKU8l8Wq7n7OPVikirn'}], 'available_markets': ['AD', 'AE', 'AG', 'AL', 'AM', 'AO', 'AR', 'AT', 'AU', 'AZ', 'BA', 'BB', 'BD', 'BE', 'BF', 'BG', 'BH', 'BI', 'BJ', 'BN', 'BO', 'BR', 'BS', 'BT', 'BW', 'BY', 'BZ', 'CA', 'CD', 'CG', 'CH', 'CI', 'CL', 'CM', 'CO', 'CR', 'CV', 'CW', 'CY', 'CZ', 'DE', 'DJ', 'DK', 'DM', 'DO', 'DZ', 'EC', 'EE', 'EG', 'ES', 'ET', 'FI', 'FJ', 'FM', 'FR', 'GA', 'GB', 'GD', 'GE', 'GH', 'GM', 'GN', 'GQ', 'GR', 'GT', 'GW', 'GY', 'HK', 'HN', 'HR', 'HT', 'HU', 'ID', 'IE', 'IL', 'IN', 'IQ', 'IS', 'IT', 'JM', 'JO', 'JP', 'KE', 'KG', 'KH', 'KI', 'KM', 'KN', 'KR', 'KW', 'KZ', 'LA', 'LB', 'LC', 'LI', 'LK', 'LR', 'LS', 'LT', 'LU', 'LV', 'LY', 'MA', 'MC', 'MD', 'ME', 'MG', 'MH', 'MK', 'ML', 'MN', 'MO', 'MR', 'MT', 'MU', 'MV', 'MW', 'MX', 'MY', 'MZ', 'NA', 'NE', 'NG', 'NI', 'NL', 'NO', 'NP', 'NR', 'NZ', 'OM', 'PA', 'PE', 'PG', 'PH', 'PK', 'PL', 'PS', 'PT', 'PW', 'PY', 'QA', 'RO', 'RS', 'RW', 'SA', 'SB', 'SC', 'SE', 'SG', 'SI', 'SK', 'SL', 'SM', 'SN', 'SR', 'ST', 'SV', 'SZ', 'TD', 'TG', 'TH', 'TJ', 'TL', 'TN', 'TO', 'TR', 'TT', 'TV', 'TW', 'TZ', 'UA', 'UG', 'US', 'UY', 'UZ', 'VC', 'VE', 'VN', 'VU', 'WS', 'XK', 'ZA', 'ZM', 'ZW'], 'external_urls': {'spotify': 'https://open.spotify.com/album/6mTxdHN68ChHeURs6cl0OC'}, 'href': 'https://api.spotify.com/v1/albums/6mTxdHN68ChHeURs6cl0OC', 'id': '6mTxdHN68ChHeURs6cl0OC', 'images': [{'height': 640, 'url': 'https://i.scdn.co/image/ab67616d0000b273b40a2a64ee6b955975e2958b', 'width': 640}, {'height': 300, 'url': 'https://i.scdn.co/image/ab67616d00001e02b40a2a64ee6b955975e2958b', 'width': 300}, {'height': 64, 'url': 'https://i.scdn.co/image/ab67616d00004851b40a2a64ee6b955975e2958b', 'width': 64}], 'name': 'The Chief', 'release_date': '2017-02-17', 'release_date_precision': 'day', 'total_tracks': 14, 'type': 'album', 'uri': 'spotify:album:6mTxdHN68ChHeURs6cl0OC'}, 'artists': [{'external_urls': {'spotify': 'https://open.spotify.com/artist/4TsHKU8l8Wq7n7OPVikirn'}, 'href': 'https://api.spotify.com/v1/artists/4TsHKU8l8Wq7n7OPVikirn', 'id': '4TsHKU8l8Wq7n7OPVikirn', 'name': 'Jidenna', 'type': 'artist', 'uri': 'spotify:artist:4TsHKU8l8Wq7n7OPVikirn'}], 'available_markets': ['AR', 'AU', 'AT', 'BE', 'BO', 'BR', 'BG', 'CA', 'CL', 'CO', 'CR', 'CY', 'CZ', 'DK', 'DO', 'DE', 'EC', 'EE', 'SV', 'FI', 'FR', 'GR', 'GT', 'HN', 'HK', 'HU', 'IS', 'IE', 'IT', 'LV', 'LT', 'LU', 'MY', 'MT', 'MX', 'NL', 'NZ', 'NI', 'NO', 'PA', 'PY', 'PE', 'PH', 'PL', 'PT', 'SG', 'SK', 'ES', 'SE', 'CH', 'TW', 'TR', 'UY', 'US', 'GB', 'AD', 'LI', 'MC', 'ID', 'JP', 'TH', 'VN', 'RO', 'IL', 'ZA', 'SA', 'AE', 'BH', 'QA', 'OM', 'KW', 'EG', 'MA', 'DZ', 'TN', 'LB', 'JO', 'PS', 'IN', 'BY', 'KZ', 'MD', 'UA', 'AL', 'BA', 'HR', 'ME', 'MK', 'RS', 'SI', 'KR', 'BD', 'PK', 'LK', 'GH', 'KE', 'NG', 'TZ', 'UG', 'AG', 'AM', 'BS', 'BB', 'BZ', 'BT', 'BW', 'BF', 'CV', 'CW', 'DM', 'FJ', 'GM', 'GE', 'GD', 'GW', 'GY', 'HT', 'JM', 'KI', 'LS', 'LR', 'MW', 'MV', 'ML', 'MH', 'FM', 'NA', 'NR', 'NE', 'PW', 'PG', 'WS', 'SM', 'ST', 'SN', 'SC', 'SL', 'SB', 'KN', 'LC', 'VC', 'SR', 'TL', 'TO', 'TT', 'TV', 'VU', 'AZ', 'BN', 'BI', 'KH', 'CM', 'TD', 'KM', 'GQ', 'SZ', 'GA', 'GN', 'KG', 'LA', 'MO', 'MR', 'MN', 'NP', 'RW', 'TG', 'UZ', 'ZW', 'BJ', 'MG', 'MU', 'MZ', 'AO', 'CI', 'DJ', 'ZM', 'CD', 'CG', 'IQ', 'LY', 'TJ', 'VE', 'ET', 'XK'], 'disc_number': 1, 'duration_ms': 250000, 'explicit': False, 'external_ids': {'isrc': 'USSM11606028'}, 'external_urls': {'spotify': 'https://open.spotify.com/track/5KWV7S3osWbeOMPHCeWVyK'}, 'href': 'https://api.spotify.com/v1/tracks/5KWV7S3osWbeOMPHCeWVyK', 'id': '5KWV7S3osWbeOMPHCeWVyK', 'is_local': False, 'name': 'Bambi', 'popularity': 53, 'preview_url': 'https://p.scdn.co/mp3-preview/1a514e3d6b3cd8e793f4e2b7a060068eae78e16d?cid=e2c5e717fa3347e1a6e0266e4dd88fda', 'track_number': 4, 'type': 'track', 'uri': 'spotify:track:5KWV7S3osWbeOMPHCeWVyK'}, {'album': {'album_type': 'single', 'artists': [{'external_urls': {'spotify': 'https://open.spotify.com/artist/2Hh5OmjynnsLv3s4HUTAP3'}, 'href': 'https://api.spotify.com/v1/artists/2Hh5OmjynnsLv3s4HUTAP3', 'id': '2Hh5OmjynnsLv3s4HUTAP3', 'name': 'Andrea Piazzo', 'type': 'artist', 'uri': 'spotify:artist:2Hh5OmjynnsLv3s4HUTAP3'}], 'available_markets': ['AD', 'AE', 'AG', 'AL', 'AM', 'AO', 'AR', 'AT', 'AU', 'AZ', 'BA', 'BB', 'BD', 'BE', 'BF', 'BG', 'BH', 'BI', 'BJ', 'BN', 'BO', 'BR', 'BS', 'BT', 'BW', 'BY', 'BZ', 'CA', 'CD', 'CG', 'CH', 'CI', 'CL', 'CM', 'CO', 'CR', 'CV', 'CW', 'CY', 'CZ', 'DE', 'DJ', 'DK', 'DM', 'DO', 'DZ', 'EC', 'EE', 'EG', 'ES', 'ET', 'FI', 'FJ', 'FM', 'FR', 'GA', 'GB', 'GD', 'GE', 'GH', 'GM', 'GN', 'GQ', 'GR', 'GT', 'GW', 'GY', 'HK', 'HN', 'HR', 'HT', 'HU', 'ID', 'IE', 'IL', 'IN', 'IQ', 'IS', 'IT', 'JM', 'JO', 'JP', 'KE', 'KG', 'KH', 'KI', 'KM', 'KN', 'KR', 'KW', 'KZ', 'LA', 'LB', 'LC', 'LI', 'LK', 'LR', 'LS', 'LT', 'LU', 'LV', 'LY', 'MA', 'MC', 'MD', 'ME', 'MG', 'MH', 'MK', 'ML', 'MN', 'MO', 'MR', 'MT', 'MU', 'MV', 'MW', 'MX', 'MY', 'MZ', 'NA', 'NE', 'NG', 'NI', 'NL', 'NO', 'NP', 'NR', 'NZ', 'OM', 'PA', 'PE', 'PG', 'PH', 'PK', 'PL', 'PS', 'PT', 'PW', 'PY', 'QA', 'RO', 'RS', 'RW', 'SA', 'SB', 'SC', 'SE', 'SG', 'SI', 'SK', 'SL', 'SM', 'SN', 'SR', 'ST', 'SV', 'SZ', 'TD', 'TG', 'TH', 'TJ', 'TL', 'TN', 'TO', 'TR', 'TT', 'TV', 'TW', 'TZ', 'UA', 'UG', 'US', 'UY', 'UZ', 'VC', 'VE', 'VN', 'VU', 'WS', 'XK', 'ZA', 'ZM', 'ZW'], 'external_urls': {'spotify': 'https://open.spotify.com/album/2s5ZkT6Dh59dDiHDpWIBoa'}, 'href': 'https://api.spotify.com/v1/albums/2s5ZkT6Dh59dDiHDpWIBoa', 'id': '2s5ZkT6Dh59dDiHDpWIBoa', 'images': [{'height': 640, 'url': 'https://i.scdn.co/image/ab67616d0000b2733a76acd7c5bad33b75d08b1f', 'width': 640}, {'height': 300, 'url': 'https://i.scdn.co/image/ab67616d00001e023a76acd7c5bad33b75d08b1f', 'width': 300}, {'height': 64, 'url': 'https://i.scdn.co/image/ab67616d000048513a76acd7c5bad33b75d08b1f', 'width': 64}], 'name': 'Bambino', 'release_date': '2021-04-02', 'release_date_precision': 'day', 'total_tracks': 1, 'type': 'album', 'uri': 'spotify:album:2s5ZkT6Dh59dDiHDpWIBoa'}, 'artists': [{'external_urls': {'spotify': 'https://open.spotify.com/artist/2Hh5OmjynnsLv3s4HUTAP3'}, 'href': 'https://api.spotify.com/v1/artists/2Hh5OmjynnsLv3s4HUTAP3', 'id': '2Hh5OmjynnsLv3s4HUTAP3', 'name': 'Andrea Piazzo', 'type': 'artist', 'uri': 'spotify:artist:2Hh5OmjynnsLv3s4HUTAP3'}], 'available_markets': ['AR', 'AU', 'AT', 'BE', 'BO', 'BR', 'BG', 'CA', 'CL', 'CO', 'CR', 'CY', 'CZ', 'DK', 'DO', 'DE', 'EC', 'EE', 'SV', 'FI', 'FR', 'GR', 'GT', 'HN', 'HK', 'HU', 'IS', 'IE', 'IT', 'LV', 'LT', 'LU', 'MY', 'MT', 'MX', 'NL', 'NZ', 'NI', 'NO', 'PA', 'PY', 'PE', 'PH', 'PL', 'PT', 'SG', 'SK', 'ES', 'SE', 'CH', 'TW', 'TR', 'UY', 'US', 'GB', 'AD', 'LI', 'MC', 'ID', 'JP', 'TH', 'VN', 'RO', 'IL', 'ZA', 'SA', 'AE', 'BH', 'QA', 'OM', 'KW', 'EG', 'MA', 'DZ', 'TN', 'LB', 'JO', 'PS', 'IN', 'BY', 'KZ', 'MD', 'UA', 'AL', 'BA', 'HR', 'ME', 'MK', 'RS', 'SI', 'KR', 'BD', 'PK', 'LK', 'GH', 'KE', 'NG', 'TZ', 'UG', 'AG', 'AM', 'BS', 'BB', 'BZ', 'BT', 'BW', 'BF', 'CV', 'CW', 'DM', 'FJ', 'GM', 'GE', 'GD', 'GW', 'GY', 'HT', 'JM', 'KI', 'LS', 'LR', 'MW', 'MV', 'ML', 'MH', 'FM', 'NA', 'NR', 'NE', 'PW', 'PG', 'WS', 'SM', 'ST', 'SN', 'SC', 'SL', 'SB', 'KN', 'LC', 'VC', 'SR', 'TL', 'TO', 'TT', 'TV', 'VU', 'AZ', 'BN', 'BI', 'KH', 'CM', 'TD', 'KM', 'GQ', 'SZ', 'GA', 'GN', 'KG', 'LA', 'MO', 'MR', 'MN', 'NP', 'RW', 'TG', 'UZ', 'ZW', 'BJ', 'MG', 'MU', 'MZ', 'AO', 'CI', 'DJ', 'ZM', 'CD', 'CG', 'IQ', 'LY', 'TJ', 'VE', 'ET', 'XK'], 'disc_number': 1, 'duration_ms': 181000, 'explicit': False, 'external_ids': {'isrc': 'SE5W32101057'}, 'external_urls': {'spotify': 'https://open.spotify.com/track/4tuoaXBjV4VZXCWndpZza0'}, 'href': 'https://api.spotify.com/v1/tracks/4tuoaXBjV4VZXCWndpZza0', 'id': '4tuoaXBjV4VZXCWndpZza0', 'is_local': False, 'name': 'Bambino', 'popularity': 53, 'preview_url': 'https://p.scdn.co/mp3-preview/fe1b13dbeabf4884c573580a58492e5ad619422a?cid=e2c5e717fa3347e1a6e0266e4dd88fda', 'track_number': 1, 'type': 'track', 'uri': 'spotify:track:4tuoaXBjV4VZXCWndpZza0'}, {'album': {'album_type': 'single', 'artists': [{'external_urls': {'spotify': 'https://open.spotify.com/artist/6EYGGkM2JDpX5CjHpGkiME'}, 'href': 'https://api.spotify.com/v1/artists/6EYGGkM2JDpX5CjHpGkiME', 'id': '6EYGGkM2JDpX5CjHpGkiME', 'name': 'Karri', 'type': 'artist', 'uri': 'spotify:artist:6EYGGkM2JDpX5CjHpGkiME'}, {'external_urls': {'spotify': 'https://open.spotify.com/artist/47TMF0JlFsz01KilGzc5Ly'}, 'href': 'https://api.spotify.com/v1/artists/47TMF0JlFsz01KilGzc5Ly', 'id': '47TMF0JlFsz01KilGzc5Ly', 'name': 'Kalan.FrFr', 'type': 'artist', 'uri': 'spotify:artist:47TMF0JlFsz01KilGzc5Ly'}], 'available_markets': ['AD', 'AE', 'AG', 'AL', 'AM', 'AO', 'AR', 'AT', 'AU', 'AZ', 'BA', 'BB', 'BD', 'BE', 'BF', 'BG', 'BH', 'BI', 'BJ', 'BN', 'BO', 'BR', 'BS', 'BT', 'BW', 'BY', 'BZ', 'CA', 'CD', 'CG', 'CH', 'CI', 'CL', 'CM', 'CO', 'CR', 'CV', 'CW', 'CY', 'CZ', 'DE', 'DJ', 'DK', 'DM', 'DO', 'DZ', 'EC', 'EE', 'EG', 'ES', 'ET', 'FI', 'FJ', 'FM', 'FR', 'GA', 'GB', 'GD', 'GE', 'GH', 'GM', 'GN', 'GQ', 'GR', 'GT', 'GW', 'GY', 'HK', 'HN', 'HR', 'HT', 'HU', 'ID', 'IE', 'IL', 'IN', 'IQ', 'IS', 'IT', 'JM', 'JO', 'JP', 'KE', 'KG', 'KH', 'KI', 'KM', 'KN', 'KR', 'KW', 'KZ', 'LA', 'LB', 'LC', 'LI', 'LK', 'LR', 'LS', 'LT', 'LU', 'LV', 'LY', 'MA', 'MC', 'MD', 'ME', 'MG', 'MH', 'MK', 'ML', 'MN', 'MO', 'MR', 'MT', 'MU', 'MV', 'MW', 'MX', 'MY', 'MZ', 'NA', 'NE', 'NG', 'NI', 'NL', 'NO', 'NP', 'NR', 'NZ', 'OM', 'PA', 'PE', 'PG', 'PH', 'PK', 'PL', 'PS', 'PT', 'PW', 'PY', 'QA', 'RO', 'RS', 'RW', 'SA', 'SB', 'SC', 'SE', 'SG', 'SI', 'SK', 'SL', 'SM', 'SN', 'SR', 'ST', 'SV', 'SZ', 'TD', 'TG', 'TH', 'TJ', 'TL', 'TN', 'TO', 'TR', 'TT', 'TV', 'TW', 'TZ', 'UA', 'UG', 'US', 'UY', 'UZ', 'VC', 'VE', 'VN', 'VU', 'WS', 'XK', 'ZA', 'ZM', 'ZW'], 'external_urls': {'spotify': 'https://open.spotify.com/album/50euaJScnQPyUSbh1Wy9TY'}, 'href': 'https://api.spotify.com/v1/albums/50euaJScnQPyUSbh1Wy9TY', 'id': '50euaJScnQPyUSbh1Wy9TY', 'images': [{'height': 640, 'url': 'https://i.scdn.co/image/ab67616d0000b2735254c34665070c63d75a8b21', 'width': 640}, {'height': 300, 'url': 'https://i.scdn.co/image/ab67616d00001e025254c34665070c63d75a8b21', 'width': 300}, {'height': 64, 'url': 'https://i.scdn.co/image/ab67616d000048515254c34665070c63d75a8b21', 'width': 64}], 'name': 'Bambi', 'release_date': '2022-06-03', 'release_date_precision': 'day', 'total_tracks': 1, 'type': 'album', 'uri': 'spotify:album:50euaJScnQPyUSbh1Wy9TY'}, 'artists': [{'external_urls': {'spotify': 'https://open.spotify.com/artist/6EYGGkM2JDpX5CjHpGkiME'}, 'href': 'https://api.spotify.com/v1/artists/6EYGGkM2JDpX5CjHpGkiME', 'id': '6EYGGkM2JDpX5CjHpGkiME', 'name': 'Karri', 'type': 'artist', 'uri': 'spotify:artist:6EYGGkM2JDpX5CjHpGkiME'}, {'external_urls': {'spotify': 'https://open.spotify.com/artist/47TMF0JlFsz01KilGzc5Ly'}, 'href': 'https://api.spotify.com/v1/artists/47TMF0JlFsz01KilGzc5Ly', 'id': '47TMF0JlFsz01KilGzc5Ly', 'name': 'Kalan.FrFr', 'type': 'artist', 'uri': 'spotify:artist:47TMF0JlFsz01KilGzc5Ly'}], 'available_markets': ['AR', 'AU', 'AT', 'BE', 'BO', 'BR', 'BG', 'CA', 'CL', 'CO', 'CR', 'CY', 'CZ', 'DK', 'DO', 'DE', 'EC', 'EE', 'SV', 'FI', 'FR', 'GR', 'GT', 'HN', 'HK', 'HU', 'IS', 'IE', 'IT', 'LV', 'LT', 'LU', 'MY', 'MT', 'MX', 'NL', 'NZ', 'NI', 'NO', 'PA', 'PY', 'PE', 'PH', 'PL', 'PT', 'SG', 'SK', 'ES', 'SE', 'CH', 'TW', 'TR', 'UY', 'US', 'GB', 'AD', 'LI', 'MC', 'ID', 'JP', 'TH', 'VN', 'RO', 'IL', 'ZA', 'SA', 'AE', 'BH', 'QA', 'OM', 'KW', 'EG', 'MA', 'DZ', 'TN', 'LB', 'JO', 'PS', 'IN', 'BY', 'KZ', 'MD', 'UA', 'AL', 'BA', 'HR', 'ME', 'MK', 'RS', 'SI', 'KR', 'BD', 'PK', 'LK', 'GH', 'KE', 'NG', 'TZ', 'UG', 'AG', 'AM', 'BS', 'BB', 'BZ', 'BT', 'BW', 'BF', 'CV', 'CW', 'DM', 'FJ', 'GM', 'GE', 'GD', 'GW', 'GY', 'HT', 'JM', 'KI', 'LS', 'LR', 'MW', 'MV', 'ML', 'MH', 'FM', 'NA', 'NR', 'NE', 'PW', 'PG', 'WS', 'SM', 'ST', 'SN', 'SC', 'SL', 'SB', 'KN', 'LC', 'VC', 'SR', 'TL', 'TO', 'TT', 'TV', 'VU', 'AZ', 'BN', 'BI', 'KH', 'CM', 'TD', 'KM', 'GQ', 'SZ', 'GA', 'GN', 'KG', 'LA', 'MO', 'MR', 'MN', 'NP', 'RW', 'TG', 'UZ', 'ZW', 'BJ', 'MG', 'MU', 'MZ', 'AO', 'CI', 'DJ', 'ZM', 'CD', 'CG', 'IQ', 'LY', 'TJ', 'VE', 'ET', 'XK'], 'disc_number': 1, 'duration_ms': 154536, 'explicit': True, 'external_ids': {'isrc': 'US3DF2250187'}, 'external_urls': {'spotify': 'https://open.spotify.com/track/7agBfdnarV5mFCouvfIVVj'}, 'href': 'https://api.spotify.com/v1/tracks/7agBfdnarV5mFCouvfIVVj', 'id': '7agBfdnarV5mFCouvfIVVj', 'is_local': False, 'name': 'Bambi', 'popularity': 47, 'preview_url': 'https://p.scdn.co/mp3-preview/4d51e9701928dcb290389118a500ab065f2dcf0b?cid=e2c5e717fa3347e1a6e0266e4dd88fda', 'track_number': 1, 'type': 'track', 'uri': 'spotify:track:7agBfdnarV5mFCouvfIVVj'}, {'album': {'album_type': 'album', 'artists': [{'external_urls': {'spotify': 'https://open.spotify.com/artist/71JAcPfeNMu1clNa9ifPUx'}, 'href': 'https://api.spotify.com/v1/artists/71JAcPfeNMu1clNa9ifPUx', 'id': '71JAcPfeNMu1clNa9ifPUx', 'name': 'Cover Kid', 'type': 'artist', 'uri': 'spotify:artist:71JAcPfeNMu1clNa9ifPUx'}], 'available_markets': ['AD', 'AE', 'AG', 'AL', 'AM', 'AO', 'AR', 'AT', 'AU', 'AZ', 'BA', 'BB', 'BD', 'BE', 'BF', 'BG', 'BH', 'BI', 'BJ', 'BN', 'BO', 'BR', 'BS', 'BT', 'BW', 'BY', 'BZ', 'CA', 'CD', 'CG', 'CH', 'CI', 'CL', 'CM', 'CO', 'CR', 'CV', 'CW', 'CY', 'CZ', 'DE', 'DJ', 'DK', 'DM', 'DO', 'DZ', 'EC', 'EE', 'EG', 'ES', 'ET', 'FI', 'FJ', 'FM', 'FR', 'GA', 'GB', 'GD', 'GE', 'GH', 'GM', 'GN', 'GQ', 'GR', 'GT', 'GW', 'GY', 'HK', 'HN', 'HR', 'HT', 'HU', 'ID', 'IE', 'IL', 'IN', 'IQ', 'IS', 'IT', 'JM', 'JO', 'JP', 'KE', 'KG', 'KH', 'KI', 'KM', 'KN', 'KR', 'KW', 'KZ', 'LA', 'LB', 'LC', 'LI', 'LK', 'LR', 'LS', 'LT', 'LU', 'LV', 'LY', 'MA', 'MC', 'MD', 'ME', 'MG', 'MH', 'MK', 'ML', 'MN', 'MO', 'MR', 'MT', 'MU', 'MV', 'MW', 'MX', 'MY', 'MZ', 'NA', 'NE', 'NG', 'NI', 'NL', 'NO', 'NP', 'NR', 'NZ', 'OM', 'PA', 'PE', 'PG', 'PH', 'PK', 'PL', 'PS', 'PT', 'PW', 'PY', 'QA', 'RO', 'RS', 'RW', 'SA', 'SB', 'SC', 'SE', 'SG', 'SI', 'SK', 'SL', 'SM', 'SN', 'SR', 'ST', 'SV', 'SZ', 'TD', 'TG', 'TH', 'TJ', 'TL', 'TN', 'TO', 'TR', 'TT', 'TV', 'TW', 'TZ', 'UA', 'UG', 'US', 'UY', 'UZ', 'VC', 'VE', 'VN', 'VU', 'WS', 'XK', 'ZA', 'ZM', 'ZW'], 'external_urls': {'spotify': 'https://open.spotify.com/album/1tce2IaUznTsglpWd3W9St'}, 'href': 'https://api.spotify.com/v1/albums/1tce2IaUznTsglpWd3W9St', 'id': '1tce2IaUznTsglpWd3W9St', 'images': [{'height': 640, 'url': 'https://i.scdn.co/image/ab67616d0000b273b6a0ba54ad739282aacc5ecd', 'width': 640}, {'height': 300, 'url': 'https://i.scdn.co/image/ab67616d00001e02b6a0ba54ad739282aacc5ecd', 'width': 300}, {'height': 64, 'url': 'https://i.scdn.co/image/ab67616d00004851b6a0ba54ad739282aacc5ecd', 'width': 64}], 'name': 'Magical Classics', 'release_date': '2019-04-25', 'release_date_precision': 'day', 'total_tracks': 15, 'type': 'album', 'uri': 'spotify:album:1tce2IaUznTsglpWd3W9St'}, 'artists': [{'external_urls': {'spotify': 'https://open.spotify.com/artist/71JAcPfeNMu1clNa9ifPUx'}, 'href': 'https://api.spotify.com/v1/artists/71JAcPfeNMu1clNa9ifPUx', 'id': '71JAcPfeNMu1clNa9ifPUx', 'name': 'Cover Kid', 'type': 'artist', 'uri': 'spotify:artist:71JAcPfeNMu1clNa9ifPUx'}], 'available_markets': ['AR', 'AU', 'AT', 'BE', 'BO', 'BR', 'BG', 'CA', 'CL', 'CO', 'CR', 'CY', 'CZ', 'DK', 'DO', 'DE', 'EC', 'EE', 'SV', 'FI', 'FR', 'GR', 'GT', 'HN', 'HK', 'HU', 'IS', 'IE', 'IT', 'LV', 'LT', 'LU', 'MY', 'MT', 'MX', 'NL', 'NZ', 'NI', 'NO', 'PA', 'PY', 'PE', 'PH', 'PL', 'PT', 'SG', 'SK', 'ES', 'SE', 'CH', 'TW', 'TR', 'UY', 'US', 'GB', 'AD', 'LI', 'MC', 'ID', 'JP', 'TH', 'VN', 'RO', 'IL', 'ZA', 'SA', 'AE', 'BH', 'QA', 'OM', 'KW', 'EG', 'MA', 'DZ', 'TN', 'LB', 'JO', 'PS', 'IN', 'BY', 'KZ', 'MD', 'UA', 'AL', 'BA', 'HR', 'ME', 'MK', 'RS', 'SI', 'KR', 'BD', 'PK', 'LK', 'GH', 'KE', 'NG', 'TZ', 'UG', 'AG', 'AM', 'BS', 'BB', 'BZ', 'BT', 'BW', 'BF', 'CV', 'CW', 'DM', 'FJ', 'GM', 'GE', 'GD', 'GW', 'GY', 'HT', 'JM', 'KI', 'LS', 'LR', 'MW', 'MV', 'ML', 'MH', 'FM', 'NA', 'NR', 'NE', 'PW', 'PG', 'WS', 'SM', 'ST', 'SN', 'SC', 'SL', 'SB', 'KN', 'LC', 'VC', 'SR', 'TL', 'TO', 'TT', 'TV', 'VU', 'AZ', 'BN', 'BI', 'KH', 'CM', 'TD', 'KM', 'GQ', 'SZ', 'GA', 'GN', 'KG', 'LA', 'MO', 'MR', 'MN', 'NP', 'RW', 'TG', 'UZ', 'ZW', 'BJ', 'MG', 'MU', 'MZ', 'AO', 'CI', 'DJ', 'ZM', 'CD', 'CG', 'IQ', 'LY', 'TJ', 'VE', 'ET', 'XK'], 'disc_number': 1, 'duration_ms': 154459, 'explicit': False, 'external_ids': {'isrc': 'USCEJ1901807'}, 'external_urls': {'spotify': 'https://open.spotify.com/track/7HG1l9WOE6KokKX15nyzyf'}, 'href': 'https://api.spotify.com/v1/tracks/7HG1l9WOE6KokKX15nyzyf', 'id': '7HG1l9WOE6KokKX15nyzyf', 'is_local': False, 'name': 'Little April Shower (From \"Bambi\")', 'popularity': 52, 'preview_url': 'https://p.scdn.co/mp3-preview/6529f42012188d6caa482733c3488e32a3b51c10?cid=e2c5e717fa3347e1a6e0266e4dd88fda', 'track_number': 7, 'type': 'track', 'uri': 'spotify:track:7HG1l9WOE6KokKX15nyzyf'}], 'limit': 10, 'next': 'https://api.spotify.com/v1/search?query=track%3ABambi&type=track&offset=10&limit=10', 'offset': 0, 'previous': None, 'total': 1000}}\n",
            "5dmPNuHmRRJuHmJTDa7NuJ\n",
            "Bambi\n",
            "Hippo Campus\n"
          ]
        },
        {
          "output_type": "display_data",
          "data": {
            "text/html": [
              "<img src=\"https://i.scdn.co/image/ab67616d00001e0282c6a08699bfd0e4bbe95001\"/>"
            ],
            "text/plain": [
              "<IPython.core.display.Image object>"
            ]
          },
          "metadata": {}
        }
      ]
    },
    {
      "cell_type": "code",
      "source": [
        "result004 = spotify.recommendations(seed_tracks=['5dmPNuHmRRJuHmJTDa7NuJ'])\n",
        "# print(json.dumps(result002, indent=4))\n",
        "image_urls = []\n",
        "names = []\n",
        "for x in result004['tracks']:\n",
        "  names.append(x[\"album\"][\"name\"])\n",
        "  image_urls.append(x[\"album\"][\"images\"][1][\"url\"])\n",
        "\n",
        "display_images_with_names(image_urls, names)"
      ],
      "metadata": {
        "colab": {
          "base_uri": "https://localhost:8080/",
          "height": 1000
        },
        "id": "qnDsQGfgpj5p",
        "outputId": "6a12d5f4-2477-4006-eb41-ee3058ae1bb3"
      },
      "execution_count": 91,
      "outputs": [
        {
          "output_type": "display_data",
          "data": {
            "text/plain": [
              "<IPython.core.display.HTML object>"
            ],
            "text/html": [
              "<table style='margin:auto;'><tr><td style='text-align:center;'><img src='https://i.scdn.co/image/ab67616d00001e0288883701231713b18429f80b'><div>Social Cues</div></td><td style='text-align:center;'><img src='https://i.scdn.co/image/ab67616d00001e02daf19ee32be2d4917c266b09'><div>Violet Street</div></td><td style='text-align:center;'><img src='https://i.scdn.co/image/ab67616d00001e02fffed5c0eb4428e53713ade4'><div>Disappear Here</div></td><td style='text-align:center;'><img src='https://i.scdn.co/image/ab67616d00001e0282c6a08699bfd0e4bbe95001'><div>Bambi</div></td><td style='text-align:center;'><img src='https://i.scdn.co/image/ab67616d00001e021138eea74b6d7e06289bedaa'><div>SALES LP</div></td></tr><td style='text-align:center;'><img src='https://i.scdn.co/image/ab67616d00001e028d223b671888b23418a1b60b'><div>Forever & A Few</div></td><td style='text-align:center;'><img src='https://i.scdn.co/image/ab67616d00001e0279ba5da582b4dc3ad3d6b771'><div>First Place</div></td><td style='text-align:center;'><img src='https://i.scdn.co/image/ab67616d00001e02a359d88b8368698c7c44add9'><div>Parents House</div></td><td style='text-align:center;'><img src='https://i.scdn.co/image/ab67616d00001e0239a2cc5c8bf2b0c6448b7135'><div>That I Miss You</div></td><td style='text-align:center;'><img src='https://i.scdn.co/image/ab67616d00001e021c584847957ff9d720112cc9'><div>California Kamala Falcon</div></td></tr><tr><td style='text-align:center;'><img src='https://i.scdn.co/image/ab67616d00001e028935646998a8d28d13bc348d'><div>Chewing Cotton Wool</div></td><td style='text-align:center;'><img src='https://i.scdn.co/image/ab67616d00001e02a50c8151a7f80e970cd20abf'><div>Never Meant to Call</div></td><td style='text-align:center;'><img src='https://i.scdn.co/image/ab67616d00001e02ec3d15eab5bd77027abc4b23'><div>How To Be A Human Being</div></td><td style='text-align:center;'><img src='https://i.scdn.co/image/ab67616d00001e02f89d2d949f9671982e9e732c'><div>Now, Not Yet</div></td><td style='text-align:center;'><img src='https://i.scdn.co/image/ab67616d00001e02bb09cba8a0ce270c134a59e9'><div>City Club</div></td></tr><td style='text-align:center;'><img src='https://i.scdn.co/image/ab67616d00001e02d9cc6f9254286e5466797ea8'><div>Heza</div></td><td style='text-align:center;'><img src='https://i.scdn.co/image/ab67616d00001e02e19546ecf8d7d85e30b4741f'><div>Bashful Creatures</div></td><td style='text-align:center;'><img src='https://i.scdn.co/image/ab67616d00001e02dc19611b9218c95a1cdebc9a'><div>Soy Pablo</div></td><td style='text-align:center;'><img src='https://i.scdn.co/image/ab67616d00001e021e7432b0c27279e2540fdf28'><div>Good At Falling</div></td><td style='text-align:center;'><img src='https://i.scdn.co/image/ab67616d00001e02140791666d7a1b2c899ed946'><div>Sure Sure</div></td></tr></table>"
            ]
          },
          "metadata": {}
        }
      ]
    },
    {
      "cell_type": "code",
      "source": [
        "result005 = spotify.recommendations(seed_artists=['7i9bNUSGORP5MIgrii3cJc'])\n",
        "# print(json.dumps(result002, indent=4))\n",
        "image_urls = []\n",
        "names = []\n",
        "for x in result005['tracks']:\n",
        "  names.append(x[\"album\"][\"name\"])\n",
        "  image_urls.append(x[\"album\"][\"images\"][1][\"url\"])\n",
        "\n",
        "display_images_with_names(image_urls, names)"
      ],
      "metadata": {
        "colab": {
          "base_uri": "https://localhost:8080/",
          "height": 1000
        },
        "id": "BSP9EGeGrY-4",
        "outputId": "485b6077-c451-40be-dd05-913e9ed01b94"
      },
      "execution_count": 96,
      "outputs": [
        {
          "output_type": "display_data",
          "data": {
            "text/plain": [
              "<IPython.core.display.HTML object>"
            ],
            "text/html": [
              "<table style='margin:auto;'><tr><td style='text-align:center;'><img src='https://i.scdn.co/image/ab67616d00001e02ba241626f376e10a42d39e70'><div>IN THE LIFE</div></td><td style='text-align:center;'><img src='https://i.scdn.co/image/ab67616d00001e0237e8ada84943276b70d63879'><div>Orange Sunshine</div></td><td style='text-align:center;'><img src='https://i.scdn.co/image/ab67616d00001e02cd9ae0938b0c0f77947205b9'><div>KAMAKURA</div></td><td style='text-align:center;'><img src='https://i.scdn.co/image/ab67616d00001e0228499928d7375a6ca4d7832c'><div>MAKING THE ROAD</div></td><td style='text-align:center;'><img src='https://i.scdn.co/image/ab67616d00001e021c0fe318c146d5c393d66297'><div>Every Little Thing LIVE TOUR オープニングコレクション</div></td></tr><td style='text-align:center;'><img src='https://i.scdn.co/image/ab67616d00001e02c61eabed6a06d6f524f7b76d'><div>LOVE TONIGHT</div></td><td style='text-align:center;'><img src='https://i.scdn.co/image/ab67616d00001e025733d3bddbe3eff1e769f97c'><div>GATES OF HEAVEN</div></td><td style='text-align:center;'><img src='https://i.scdn.co/image/ab67616d00001e0229442e65424eb85142b0c633'><div>湘南乃風 〜JOKER〜</div></td><td style='text-align:center;'><img src='https://i.scdn.co/image/ab67616d00001e026ca067b8f388c34230601cdd'><div>謎</div></td><td style='text-align:center;'><img src='https://i.scdn.co/image/ab67616d00001e02edef6f89d12679582835c5fd'><div>class book 〜class 1993 to 1996 best〜</div></td></tr><tr><td style='text-align:center;'><img src='https://i.scdn.co/image/ab67616d00001e02c8b3943f1435f313ef1dc1af'><div>I AM YOUR SINGER</div></td><td style='text-align:center;'><img src='https://i.scdn.co/image/ab67616d00001e02e79a87d962761a1b2ea3374b'><div>RUN</div></td><td style='text-align:center;'><img src='https://i.scdn.co/image/ab67616d00001e02d1066d17475031ca03e40cc6'><div>\"GIGS\" CASE OF BOφWY COMPLETE (Live From \"Gigs\" Case Of Boowy / 1987)</div></td><td style='text-align:center;'><img src='https://i.scdn.co/image/ab67616d00001e028e338a3ef5a6a2efc725e915'><div>Single Best</div></td><td style='text-align:center;'><img src='https://i.scdn.co/image/ab67616d00001e0221254b8bc57405db2e1dae1d'><div>MUSICMAN</div></td></tr><td style='text-align:center;'><img src='https://i.scdn.co/image/ab67616d00001e027a63bc2e6ac460f28b40e543'><div>Trust・Last (『仮面ライダーギーツ』主題歌)</div></td><td style='text-align:center;'><img src='https://i.scdn.co/image/ab67616d00001e02433ca8475987fe8a94c1dee7'><div>HOT LIPS(リマスター・バージョン)</div></td><td style='text-align:center;'><img src='https://i.scdn.co/image/ab67616d00001e02382d2951d0d16e788c0bede6'><div>Superfly BEST</div></td><td style='text-align:center;'><img src='https://i.scdn.co/image/ab67616d00001e0240d32176aad45613520036ff'><div>Pepperoni Quattro</div></td><td style='text-align:center;'><img src='https://i.scdn.co/image/ab67616d00001e0253430caf3f894b744bdf2934'><div>Porno Graffitti 15th Anniversary All Time Singles</div></td></tr></table>"
            ]
          },
          "metadata": {}
        }
      ]
    },
    {
      "cell_type": "code",
      "source": [
        "result006 = spotify.recommendations(seed_tracks=['4zz5dSunCrg0pmNT4ZzBf5'])\n",
        "# print(json.dumps(result002, indent=4))\n",
        "image_urls = []\n",
        "names = []\n",
        "for x in result006['tracks']:\n",
        "  names.append(x[\"album\"][\"name\"])\n",
        "  image_urls.append(x[\"album\"][\"images\"][1][\"url\"])\n",
        "\n",
        "display_images_with_names(image_urls, names)"
      ],
      "metadata": {
        "colab": {
          "base_uri": "https://localhost:8080/",
          "height": 1000
        },
        "id": "aIQ49Nkprmek",
        "outputId": "f16ef146-d332-4822-cd70-2577cbcf9f5f"
      },
      "execution_count": 97,
      "outputs": [
        {
          "output_type": "display_data",
          "data": {
            "text/plain": [
              "<IPython.core.display.HTML object>"
            ],
            "text/html": [
              "<table style='margin:auto;'><tr><td style='text-align:center;'><img src='https://i.scdn.co/image/ab67616d00001e020d3b3d4cbc10d3bb2084ee29'><div>THE GREAT VACATION VOL.2 ~SUPER BEST OF GLAY~</div></td><td style='text-align:center;'><img src='https://i.scdn.co/image/ab67616d00001e02b59cd20c10137898320f5f33'><div>ザ・ゴールデンベスト~Pressure~</div></td><td style='text-align:center;'><img src='https://i.scdn.co/image/ab67616d00001e0253430caf3f894b744bdf2934'><div>Porno Graffitti 15th Anniversary All Time Singles</div></td><td style='text-align:center;'><img src='https://i.scdn.co/image/ab67616d00001e0224548123ea494996322ae1d6'><div>WOW WAR TONIGHT</div></td><td style='text-align:center;'><img src='https://i.scdn.co/image/ab67616d00001e0216effd9c22aae98d82eef24a'><div>NEW LOVE</div></td></tr><td style='text-align:center;'><img src='https://i.scdn.co/image/ab67616d00001e022c884fd5b53086c8d6383764'><div>サンボマスター 究極ベスト</div></td><td style='text-align:center;'><img src='https://i.scdn.co/image/ab67616d00001e02439ca7ef2ce81624e7ee3b7a'><div>倉木麻衣×名探偵コナン COLLABORATION BEST 21 -真実はいつも歌にある!-</div></td><td style='text-align:center;'><img src='https://i.scdn.co/image/ab67616d00001e024247a60e41bebb3022496c82'><div>福岡ソフトバンクホークス 選手別応援歌 2015</div></td><td style='text-align:center;'><img src='https://i.scdn.co/image/ab67616d00001e0273adad114339c93410574fb6'><div>ファンキーモンキーベイビーズ2</div></td><td style='text-align:center;'><img src='https://i.scdn.co/image/ab67616d00001e027c72d9600d1482e1f31f7584'><div>湘南乃風 〜Single Best〜</div></td></tr><tr><td style='text-align:center;'><img src='https://i.scdn.co/image/ab67616d00001e0261d9077722a1b584a83d1d2d'><div>SOUL VACATION</div></td><td style='text-align:center;'><img src='https://i.scdn.co/image/ab67616d00001e02beb8a0b2e635a159e6b1a475'><div>かつて天才だった俺たちへ</div></td><td style='text-align:center;'><img src='https://i.scdn.co/image/ab67616d00001e028c8aec82be4557106ff65483'><div>TM NETWORK ORIGINAL SINGLES 1984-1999</div></td><td style='text-align:center;'><img src='https://i.scdn.co/image/ab67616d00001e02f66f2c3fc09edec8962fe291'><div>ZUSHI(13 TRACKS VERSION)</div></td><td style='text-align:center;'><img src='https://i.scdn.co/image/ab67616d00001e0229442e65424eb85142b0c633'><div>湘南乃風 〜JOKER〜</div></td></tr><td style='text-align:center;'><img src='https://i.scdn.co/image/ab67616d00001e02ce51ffc5c742ed217779cb9d'><div>MAGIC</div></td><td style='text-align:center;'><img src='https://i.scdn.co/image/ab67616d00001e02444be612d18aed64a9f38ca4'><div>LOVE PUNCH</div></td><td style='text-align:center;'><img src='https://i.scdn.co/image/ab67616d00001e028318819d8ed00918ac4dbad4'><div>ロス タイム</div></td><td style='text-align:center;'><img src='https://i.scdn.co/image/ab67616d00001e0234ebf107b6b1609e74f6b68d'><div>TRF 15th Anniversary BEST - MEMORIES -</div></td><td style='text-align:center;'><img src='https://i.scdn.co/image/ab67616d00001e026782765be77091cd1f74afa1'><div>BURN THE SECRET</div></td></tr></table>"
            ]
          },
          "metadata": {}
        }
      ]
    },
    {
      "cell_type": "code",
      "source": [],
      "metadata": {
        "id": "jvypLzsusIFe"
      },
      "execution_count": null,
      "outputs": []
    }
  ]
}